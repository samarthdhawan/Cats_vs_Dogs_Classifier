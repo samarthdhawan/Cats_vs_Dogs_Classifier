{
 "cells": [
  {
   "cell_type": "code",
   "execution_count": 2,
   "id": "8e876636",
   "metadata": {},
   "outputs": [],
   "source": [
    "import PIL\n",
    "import tensorflow\n",
    "import keras\n",
    "import numpy as np\n",
    "import pandas as pd\n",
    "from tensorflow.keras.preprocessing.image import ImageDataGenerator,load_img\n",
    "import matplotlib.pyplot as plt\n",
    "import random\n",
    "import os\n",
    "from keras.preprocessing.image import img_to_array\n",
    "import sys\n",
    "from matplotlib import pyplot\n",
    "from tensorflow.keras.utils import to_categorical\n",
    "from keras.models import Sequential\n",
    "from keras.layers import Conv2D\n",
    "from keras.layers import MaxPooling2D\n",
    "from keras.layers import Dense\n",
    "from keras.layers import Flatten\n",
    "from tensorflow.keras.optimizers import SGD\n",
    "from tensorflow import keras\n",
    "from keras.preprocessing.image import ImageDataGenerator\n",
    "from keras.applications.vgg16 import VGG16\n",
    "import PIL\n",
    "from keras.models import Model\n",
    "from flask import Flask, request,url_for,redirect,render_template,jsonify\n",
    "from keras.models import load_model\n",
    "from keras.preprocessing import image\n",
    "import numpy as np"
   ]
  },
  {
   "cell_type": "code",
   "execution_count": 3,
   "id": "89bf10a9",
   "metadata": {},
   "outputs": [],
   "source": [
    "app = Flask(__name__)"
   ]
  },
  {
   "cell_type": "code",
   "execution_count": 13,
   "id": "ea4eb63f",
   "metadata": {},
   "outputs": [],
   "source": [
    "STATIC_FOLDER = 'static'\n",
    "# Path to the folder where we'll store the upload before prediction\n",
    "UPLOAD_FOLDER = STATIC_FOLDER + '/uploads'"
   ]
  },
  {
   "cell_type": "code",
   "execution_count": 4,
   "id": "72c37755",
   "metadata": {},
   "outputs": [],
   "source": [
    "model = VGG16(include_top=False, input_shape=(200, 200, 3))\n",
    "# mark loaded layers as not trainable\n",
    "model.trainable = False\n",
    "# add new classifier layers\n",
    "flat1 = Flatten()(model.layers[-1].output)\n",
    "class1 = Dense(128, activation='relu', kernel_initializer='he_uniform')(flat1)\n",
    "output = Dense(1, activation='sigmoid')(class1)\n",
    "# define new model\n",
    "model = Model(inputs=model.inputs, outputs=output)\n",
    "# compile model\n",
    "opt = keras.optimizers.Adam(learning_rate=0.00001)\n",
    "\n",
    "model.compile(optimizer=opt, loss='binary_crossentropy', metrics=['accuracy'])"
   ]
  },
  {
   "cell_type": "code",
   "execution_count": 15,
   "id": "8b73bdb5",
   "metadata": {},
   "outputs": [
    {
     "data": {
      "text/plain": [
       "'Probability of being a dog is 0.9994644'"
      ]
     },
     "execution_count": 15,
     "metadata": {},
     "output_type": "execute_result"
    }
   ],
   "source": [
    "model.load_weights(\"fourth_try_with_vgg16.h5\")\n",
    "\n",
    "\n",
    "def predict_model(image_path,model):\n",
    "    img=image.load_img(image_path,target_size=(200,200))\n",
    "    img_arr=image.img_to_array(img)/255\n",
    "    img_arr=np.expand_dims(img_arr,axis=0)\n",
    "    pred=model.predict(img_arr)\n",
    "    #pred = tensorflow.keras.np_utils.probas_to_classes(y_proba)\n",
    "    pred=\"Probability of being a dog is \" + str(pred[0][0])\n",
    "    return pred"
   ]
  },
  {
   "cell_type": "code",
   "execution_count": 16,
   "id": "705b2aee",
   "metadata": {},
   "outputs": [],
   "source": [
    "@app.route('/', methods=['GET'])\n",
    "def index():\n",
    "    return render_template(\"index.html\")"
   ]
  },
  {
   "cell_type": "code",
   "execution_count": null,
   "id": "997bb710",
   "metadata": {},
   "outputs": [],
   "source": [
    "@app.route('/predict', methods=['GET', 'POST'])\n",
    "def upload():\n",
    "    if request.method == 'POST':\n",
    "        # Get the file from post request\n",
    "        f = request.files['file']\n",
    "\n",
    "        # Save the file to ./uploads\n",
    "        basepath = os.path.dirname(__file__)\n",
    "        file_path = os.path.join(\n",
    "            basepath, 'uploads', secure_filename(f.filename))\n",
    "        f.save(file_path)\n",
    "\n",
    "        # Make prediction\n",
    "        preds = predict_model(file_path, model)\n",
    "\n",
    "\n",
    "        return preds\n",
    "    return None"
   ]
  },
  {
   "cell_type": "code",
   "execution_count": null,
   "id": "d1f6181d",
   "metadata": {},
   "outputs": [],
   "source": [
    "if __name__ == '__main__':\n",
    "    app.run(debug=True)"
   ]
  }
 ],
 "metadata": {
  "kernelspec": {
   "display_name": "Python 3",
   "language": "python",
   "name": "python3"
  },
  "language_info": {
   "codemirror_mode": {
    "name": "ipython",
    "version": 3
   },
   "file_extension": ".py",
   "mimetype": "text/x-python",
   "name": "python",
   "nbconvert_exporter": "python",
   "pygments_lexer": "ipython3",
   "version": "3.8.8"
  }
 },
 "nbformat": 4,
 "nbformat_minor": 5
}
