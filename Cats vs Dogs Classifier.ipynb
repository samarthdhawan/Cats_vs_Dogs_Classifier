{
 "cells": [
  {
   "cell_type": "code",
   "execution_count": null,
   "id": "9527cc2b-c10d-4eab-99fb-0885f71dde7b",
   "metadata": {
    "gradient": {
     "editing": false,
     "id": "9527cc2b-c10d-4eab-99fb-0885f71dde7b",
     "kernelId": "c43ef7d2-d55f-48fa-95d3-01a67248e3ea",
     "source_hidden": false
    }
   },
   "outputs": [
    {
     "name": "stdout",
     "output_type": "stream",
     "text": [
      "Collecting pandas\n",
      "  Downloading pandas-1.4.0-cp38-cp38-manylinux_2_17_x86_64.manylinux2014_x86_64.whl (11.7 MB)\n",
      "\u001b[K     |████████████████████████████████| 11.7 MB 21.1 MB/s eta 0:00:01\n",
      "\u001b[?25hRequirement already satisfied: pytz>=2020.1 in /usr/local/lib/python3.8/dist-packages (from pandas) (2021.1)\n",
      "Requirement already satisfied: numpy>=1.18.5 in /usr/local/lib/python3.8/dist-packages (from pandas) (1.19.4)\n",
      "Requirement already satisfied: python-dateutil>=2.8.1 in /usr/local/lib/python3.8/dist-packages (from pandas) (2.8.2)\n",
      "Requirement already satisfied: six>=1.5 in /usr/local/lib/python3.8/dist-packages (from python-dateutil>=2.8.1->pandas) (1.15.0)\n",
      "Installing collected packages: pandas\n",
      "Successfully installed pandas-1.4.0\n",
      "\u001b[33mWARNING: Running pip as the 'root' user can result in broken permissions and conflicting behaviour with the system package manager. It is recommended to use a virtual environment instead: https://pip.pypa.io/warnings/venv\u001b[0m\n",
      "\u001b[33mWARNING: You are using pip version 21.2.4; however, version 22.0.2 is available.\n",
      "You should consider upgrading via the '/usr/bin/python -m pip install --upgrade pip' command.\u001b[0m\n",
      "Note: you may need to restart the kernel to use updated packages.\n"
     ]
    }
   ],
   "source": [
    "pip install pandas"
   ]
  },
  {
   "cell_type": "code",
   "execution_count": null,
   "id": "9d7493f8",
   "metadata": {
    "gradient": {
     "editing": false,
     "id": "9d7493f8",
     "kernelId": "c43ef7d2-d55f-48fa-95d3-01a67248e3ea"
    }
   },
   "outputs": [
    {
     "name": "stdout",
     "output_type": "stream",
     "text": [
      "Collecting pillow\n",
      "  Downloading Pillow-9.0.0-cp38-cp38-manylinux_2_17_x86_64.manylinux2014_x86_64.whl (4.3 MB)\n",
      "\u001b[K     |████████████████████████████████| 4.3 MB 20.3 MB/s eta 0:00:01\n",
      "\u001b[?25hInstalling collected packages: pillow\n",
      "Successfully installed pillow-9.0.0\n",
      "\u001b[33mWARNING: Running pip as the 'root' user can result in broken permissions and conflicting behaviour with the system package manager. It is recommended to use a virtual environment instead: https://pip.pypa.io/warnings/venv\u001b[0m\n",
      "\u001b[33mWARNING: You are using pip version 21.2.4; however, version 22.0.2 is available.\n",
      "You should consider upgrading via the '/usr/bin/python -m pip install --upgrade pip' command.\u001b[0m\n",
      "Note: you may need to restart the kernel to use updated packages.\n"
     ]
    }
   ],
   "source": [
    "pip install pillow"
   ]
  },
  {
   "cell_type": "code",
   "execution_count": null,
   "id": "03d5e918-bf98-48ea-8a2b-312007711bf5",
   "metadata": {
    "gradient": {
     "editing": false,
     "id": "03d5e918-bf98-48ea-8a2b-312007711bf5",
     "kernelId": "c43ef7d2-d55f-48fa-95d3-01a67248e3ea",
     "source_hidden": false
    }
   },
   "outputs": [
    {
     "name": "stdout",
     "output_type": "stream",
     "text": [
      "Collecting matplotlib\n",
      "  Downloading matplotlib-3.5.1-cp38-cp38-manylinux_2_5_x86_64.manylinux1_x86_64.whl (11.3 MB)\n",
      "\u001b[K     |████████████████████████████████| 11.3 MB 21.3 MB/s eta 0:00:01\n",
      "\u001b[?25hRequirement already satisfied: pillow>=6.2.0 in /usr/local/lib/python3.8/dist-packages (from matplotlib) (9.0.0)\n",
      "Requirement already satisfied: packaging>=20.0 in /usr/local/lib/python3.8/dist-packages (from matplotlib) (21.0)\n",
      "Collecting kiwisolver>=1.0.1\n",
      "  Downloading kiwisolver-1.3.2-cp38-cp38-manylinux_2_5_x86_64.manylinux1_x86_64.whl (1.2 MB)\n",
      "\u001b[K     |████████████████████████████████| 1.2 MB 17.0 MB/s eta 0:00:01\n",
      "\u001b[?25hRequirement already satisfied: pyparsing>=2.2.1 in /usr/local/lib/python3.8/dist-packages (from matplotlib) (2.4.7)\n",
      "Requirement already satisfied: python-dateutil>=2.7 in /usr/local/lib/python3.8/dist-packages (from matplotlib) (2.8.2)\n",
      "Requirement already satisfied: numpy>=1.17 in /usr/local/lib/python3.8/dist-packages (from matplotlib) (1.19.4)\n",
      "Collecting cycler>=0.10\n",
      "  Downloading cycler-0.11.0-py3-none-any.whl (6.4 kB)\n",
      "Collecting fonttools>=4.22.0\n",
      "  Downloading fonttools-4.29.0-py3-none-any.whl (895 kB)\n",
      "\u001b[K     |████████████████████████████████| 895 kB 27.2 MB/s eta 0:00:01\n",
      "\u001b[?25hRequirement already satisfied: six>=1.5 in /usr/local/lib/python3.8/dist-packages (from python-dateutil>=2.7->matplotlib) (1.15.0)\n",
      "Installing collected packages: kiwisolver, fonttools, cycler, matplotlib\n",
      "Successfully installed cycler-0.11.0 fonttools-4.29.0 kiwisolver-1.3.2 matplotlib-3.5.1\n",
      "\u001b[33mWARNING: Running pip as the 'root' user can result in broken permissions and conflicting behaviour with the system package manager. It is recommended to use a virtual environment instead: https://pip.pypa.io/warnings/venv\u001b[0m\n",
      "\u001b[33mWARNING: You are using pip version 21.2.4; however, version 22.0.2 is available.\n",
      "You should consider upgrading via the '/usr/bin/python -m pip install --upgrade pip' command.\u001b[0m\n",
      "Note: you may need to restart the kernel to use updated packages.\n"
     ]
    }
   ],
   "source": [
    "pip install matplotlib"
   ]
  },
  {
   "cell_type": "code",
   "execution_count": 1,
   "id": "ba36be70-c918-4722-aa6d-11a8e581be5b",
   "metadata": {
    "gradient": {
     "editing": false,
     "id": "ba36be70-c918-4722-aa6d-11a8e581be5b",
     "kernelId": "c43ef7d2-d55f-48fa-95d3-01a67248e3ea",
     "source_hidden": false
    }
   },
   "outputs": [],
   "source": [
    "import PIL\n",
    "import tensorflow\n",
    "import keras\n",
    "import numpy as np\n",
    "import pandas as pd\n",
    "from tensorflow.keras.preprocessing.image import ImageDataGenerator,load_img\n",
    "import matplotlib.pyplot as plt\n",
    "import random\n",
    "import os\n",
    "from keras.preprocessing.image import img_to_array"
   ]
  },
  {
   "cell_type": "code",
   "execution_count": null,
   "id": "15d40a59",
   "metadata": {
    "gradient": {
     "editing": false,
     "id": "15d40a59",
     "kernelId": "c43ef7d2-d55f-48fa-95d3-01a67248e3ea"
    }
   },
   "outputs": [
    {
     "name": "stdout",
     "output_type": "stream",
     "text": [
      "Collecting opendatasets\n",
      "  Downloading opendatasets-0.1.20-py3-none-any.whl (14 kB)\n",
      "Requirement already satisfied: click in /usr/local/lib/python3.8/dist-packages (from opendatasets) (8.0.1)\n",
      "Requirement already satisfied: tqdm in /usr/local/lib/python3.8/dist-packages (from opendatasets) (4.62.3)\n",
      "Collecting kaggle\n",
      "  Downloading kaggle-1.5.12.tar.gz (58 kB)\n",
      "\u001b[K     |████████████████████████████████| 58 kB 9.8 MB/s  eta 0:00:01\n",
      "\u001b[?25hRequirement already satisfied: six>=1.10 in /usr/local/lib/python3.8/dist-packages (from kaggle->opendatasets) (1.15.0)\n",
      "Requirement already satisfied: certifi in /usr/local/lib/python3.8/dist-packages (from kaggle->opendatasets) (2021.5.30)\n",
      "Requirement already satisfied: python-dateutil in /usr/local/lib/python3.8/dist-packages (from kaggle->opendatasets) (2.8.2)\n",
      "Requirement already satisfied: requests in /usr/local/lib/python3.8/dist-packages (from kaggle->opendatasets) (2.26.0)\n",
      "Collecting python-slugify\n",
      "  Downloading python_slugify-5.0.2-py2.py3-none-any.whl (6.7 kB)\n",
      "Requirement already satisfied: urllib3 in /usr/local/lib/python3.8/dist-packages (from kaggle->opendatasets) (1.26.7)\n",
      "Collecting text-unidecode>=1.3\n",
      "  Downloading text_unidecode-1.3-py2.py3-none-any.whl (78 kB)\n",
      "\u001b[K     |████████████████████████████████| 78 kB 11.2 MB/s eta 0:00:01\n",
      "\u001b[?25hRequirement already satisfied: idna<4,>=2.5 in /usr/local/lib/python3.8/dist-packages (from requests->kaggle->opendatasets) (3.2)\n",
      "Requirement already satisfied: charset-normalizer~=2.0.0 in /usr/local/lib/python3.8/dist-packages (from requests->kaggle->opendatasets) (2.0.6)\n",
      "Building wheels for collected packages: kaggle\n",
      "  Building wheel for kaggle (setup.py) ... \u001b[?25ldone\n",
      "\u001b[?25h  Created wheel for kaggle: filename=kaggle-1.5.12-py3-none-any.whl size=73051 sha256=f8320ca73ae6fd84daf779fe58a8c959d48b282f412c40050eb911697262796b\n",
      "  Stored in directory: /root/.cache/pip/wheels/29/da/11/144cc25aebdaeb4931b231e25fd34b394e6a5725cbb2f50106\n",
      "Successfully built kaggle\n",
      "Installing collected packages: text-unidecode, python-slugify, kaggle, opendatasets\n",
      "Successfully installed kaggle-1.5.12 opendatasets-0.1.20 python-slugify-5.0.2 text-unidecode-1.3\n",
      "\u001b[33mWARNING: Running pip as the 'root' user can result in broken permissions and conflicting behaviour with the system package manager. It is recommended to use a virtual environment instead: https://pip.pypa.io/warnings/venv\u001b[0m\n",
      "\u001b[33mWARNING: You are using pip version 21.2.4; however, version 21.3.1 is available.\n",
      "You should consider upgrading via the '/usr/bin/python -m pip install --upgrade pip' command.\u001b[0m\n",
      "Note: you may need to restart the kernel to use updated packages.\n"
     ]
    }
   ],
   "source": [
    "pip install opendatasets"
   ]
  },
  {
   "cell_type": "code",
   "execution_count": null,
   "id": "6120b60d-e68c-4cf9-83a4-f4c90e5d6053",
   "metadata": {
    "gradient": {
     "editing": false,
     "id": "6120b60d-e68c-4cf9-83a4-f4c90e5d6053",
     "kernelId": "c43ef7d2-d55f-48fa-95d3-01a67248e3ea",
     "source_hidden": false
    }
   },
   "outputs": [],
   "source": [
    "import opendatasets as od"
   ]
  },
  {
   "cell_type": "code",
   "execution_count": null,
   "id": "9422cb2c-a330-44e6-8ac5-57f87d812f24",
   "metadata": {
    "gradient": {
     "editing": false,
     "id": "9422cb2c-a330-44e6-8ac5-57f87d812f24",
     "kernelId": "c43ef7d2-d55f-48fa-95d3-01a67248e3ea",
     "source_hidden": false
    }
   },
   "outputs": [
    {
     "name": "stdout",
     "output_type": "stream",
     "text": [
      "Please provide your Kaggle credentials to download this dataset. Learn more: http://bit.ly/kaggle-creds\n",
      "Your Kaggle username: samarthdhawan\n",
      "Your Kaggle Key: ········\n",
      "Downloading dogs-vs-cats.zip to ./dogs-vs-cats\n"
     ]
    },
    {
     "name": "stderr",
     "output_type": "stream",
     "text": [
      "100%|██████████| 812M/812M [00:36<00:00, 23.2MB/s] \n"
     ]
    },
    {
     "name": "stdout",
     "output_type": "stream",
     "text": [
      "\n",
      "Extracting archive ./dogs-vs-cats/dogs-vs-cats.zip to ./dogs-vs-cats\n"
     ]
    }
   ],
   "source": [
    "od.download(\"https://www.kaggle.com/c/dogs-vs-cats/data\")"
   ]
  },
  {
   "cell_type": "markdown",
   "id": "e2958fb0-aff8-4016-a2a5-5b69a84ddfbc",
   "metadata": {
    "gradient": {
     "editing": false,
     "id": "e2958fb0-aff8-4016-a2a5-5b69a84ddfbc",
     "kernelId": "c43ef7d2-d55f-48fa-95d3-01a67248e3ea"
    }
   },
   "source": [
    "# Extracting data from ZIP file"
   ]
  },
  {
   "cell_type": "code",
   "execution_count": null,
   "id": "daff68eb-76be-47e7-81a3-e7a813b3c6e0",
   "metadata": {
    "gradient": {
     "editing": false,
     "id": "daff68eb-76be-47e7-81a3-e7a813b3c6e0",
     "kernelId": "c43ef7d2-d55f-48fa-95d3-01a67248e3ea",
     "source_hidden": false
    }
   },
   "outputs": [],
   "source": [
    "import zipfile\n",
    "with zipfile.ZipFile(\"dogs-vs-cats/train.zip\",\"r\") as zip_ref:\n",
    "    zip_ref.extractall(\"train\")"
   ]
  },
  {
   "cell_type": "code",
   "execution_count": null,
   "id": "b67e5e77-138d-4ff6-9b65-1737cb316ad2",
   "metadata": {
    "gradient": {
     "editing": false,
     "id": "b67e5e77-138d-4ff6-9b65-1737cb316ad2",
     "kernelId": "c43ef7d2-d55f-48fa-95d3-01a67248e3ea",
     "source_hidden": false
    }
   },
   "outputs": [],
   "source": [
    "import zipfile\n",
    "with zipfile.ZipFile(\"dogs-vs-cats/test1.zip\",\"r\") as zip_ref:\n",
    "    zip_ref.extractall(\"test\")"
   ]
  },
  {
   "cell_type": "markdown",
   "id": "16ecdc21-7800-4e3a-a7e6-82fc2511d517",
   "metadata": {
    "gradient": {
     "editing": false,
     "id": "16ecdc21-7800-4e3a-a7e6-82fc2511d517",
     "kernelId": "c43ef7d2-d55f-48fa-95d3-01a67248e3ea"
    }
   },
   "source": [
    "# storing data into structured directories of train, test and validate"
   ]
  },
  {
   "cell_type": "code",
   "execution_count": null,
   "id": "62f40343-b715-4441-942a-f125e1b9acdd",
   "metadata": {
    "gradient": {
     "editing": false,
     "id": "62f40343-b715-4441-942a-f125e1b9acdd",
     "kernelId": "c43ef7d2-d55f-48fa-95d3-01a67248e3ea",
     "source_hidden": false
    }
   },
   "outputs": [],
   "source": [
    "from os import makedirs\n",
    "# create directories\n",
    "dataset_home = 'dataset_dogs_vs_cats/'\n",
    "subdirs = ['train/','test/','val/']\n",
    "for subdir in subdirs:\n",
    "    # create label subdirectories\n",
    "    labeldirs = ['dogs/', 'cats/']\n",
    "    for labldir in labeldirs:\n",
    "        newdir = dataset_home + subdir + labldir\n",
    "        makedirs(newdir, exist_ok=True)"
   ]
  },
  {
   "cell_type": "code",
   "execution_count": 5,
   "id": "e50d7aa6",
   "metadata": {},
   "outputs": [],
   "source": [
    "from random import random"
   ]
  },
  {
   "cell_type": "code",
   "execution_count": null,
   "id": "b9b6fd2c-c809-4ba7-98ee-b1b4758be56c",
   "metadata": {
    "gradient": {
     "editing": false,
     "id": "b9b6fd2c-c809-4ba7-98ee-b1b4758be56c",
     "kernelId": "c43ef7d2-d55f-48fa-95d3-01a67248e3ea",
     "source_hidden": false
    }
   },
   "outputs": [],
   "source": [
    "\n",
    "val_ratio=0.2\n",
    "from os import listdir\n",
    "from random import random\n",
    "from shutil import copyfile\n",
    "\n",
    "src_directory = 'train/train' # Source Directory\n",
    "for file in listdir(src_directory):\n",
    "    src = src_directory + '/' + file \n",
    "    dst_dir = 'train/' # Destination directory\n",
    "    if random() < val_ratio:\n",
    "        dst_dir = 'val/'\n",
    "    if file.startswith('cat'):\n",
    "        dst = dataset_home + dst_dir + 'cats/'  + file\n",
    "        copyfile(src, dst)\n",
    "    elif file.startswith('dog'):\n",
    "        dst = dataset_home + dst_dir + 'dogs/'  + file\n",
    "        copyfile(src, dst)"
   ]
  },
  {
   "cell_type": "code",
   "execution_count": null,
   "id": "1a19a26b",
   "metadata": {
    "gradient": {
     "editing": false,
     "id": "1a19a26b",
     "kernelId": "c43ef7d2-d55f-48fa-95d3-01a67248e3ea"
    }
   },
   "outputs": [],
   "source": [
    "# copy training dataset images into subdirectories\n",
    "src_directory = 'test/test1'\n",
    "for file in listdir(src_directory):\n",
    "\tsrc = src_directory + '/' + file\n",
    "\tdst_dir = 'test/'\n",
    "\tif file.startswith('cat'):\n",
    "\t\tdst = dataset_home + dst_dir + 'cats/'  + file\n",
    "\t\tcopyfile(src, dst)\n",
    "\telif file.startswith('dog'):\n",
    "\t\tdst = dataset_home + dst_dir + 'dogs/'  + file\n",
    "\t\tcopyfile(src, dst)"
   ]
  },
  {
   "cell_type": "markdown",
   "id": "c3e193cc-357b-488f-924c-5027763e1fc4",
   "metadata": {
    "gradient": {
     "editing": false,
     "id": "c3e193cc-357b-488f-924c-5027763e1fc4",
     "kernelId": "c43ef7d2-d55f-48fa-95d3-01a67248e3ea"
    }
   },
   "source": [
    "# Visualizing a few images"
   ]
  },
  {
   "cell_type": "code",
   "execution_count": 2,
   "id": "b098f5d5",
   "metadata": {
    "gradient": {
     "editing": false,
     "id": "b098f5d5",
     "kernelId": "c43ef7d2-d55f-48fa-95d3-01a67248e3ea"
    }
   },
   "outputs": [],
   "source": [
    "from PIL import Image"
   ]
  },
  {
   "cell_type": "code",
   "execution_count": null,
   "id": "8d86ce47-c6f1-4d3f-bda7-e53c3ae26e0e",
   "metadata": {
    "gradient": {
     "editing": false,
     "id": "8d86ce47-c6f1-4d3f-bda7-e53c3ae26e0e",
     "kernelId": "c43ef7d2-d55f-48fa-95d3-01a67248e3ea",
     "source_hidden": false
    }
   },
   "outputs": [
    {
     "data": {
      "image/png": "[encoded data removed]",
      "text/plain": [
       "<Figure size 432x288 with 9 Axes>"
      ]
     },
     "metadata": {
      "needs_background": "light"
     },
     "output_type": "display_data"
    }
   ],
   "source": [
    "from matplotlib import pyplot\n",
    "from matplotlib.image import imread\n",
    "# define location of dataset\n",
    "folder = 'train/train'\n",
    "# plot first few images\n",
    "for i in range(9):\n",
    "    # define subplot\n",
    "    pyplot.subplot(3,3,i+1)\n",
    "    # define filename\n",
    "    filename = folder + \"/\" +'dog.' + str(i) + '.jpg'\n",
    "    # load image pixels\n",
    "    image = imread(filename)\n",
    "    # plot raw pixel data\n",
    "    pyplot.imshow(image)\n",
    "# show the figure\n",
    "pyplot.show()"
   ]
  },
  {
   "cell_type": "code",
   "execution_count": 3,
   "id": "0c592fb7",
   "metadata": {
    "gradient": {
     "editing": false,
     "id": "0c592fb7",
     "kernelId": "c43ef7d2-d55f-48fa-95d3-01a67248e3ea"
    }
   },
   "outputs": [],
   "source": [
    "import sys\n",
    "from matplotlib import pyplot\n",
    "from tensorflow.keras.utils import to_categorical\n",
    "from keras.models import Sequential\n",
    "from keras.layers import Conv2D\n",
    "from keras.layers import MaxPooling2D\n",
    "from keras.layers import Dense\n",
    "from keras.layers import Flatten\n",
    "from tensorflow.keras.optimizers import SGD\n",
    "from tensorflow import keras\n",
    "from keras.preprocessing.image import ImageDataGenerator"
   ]
  },
  {
   "cell_type": "markdown",
   "id": "88c64d70-64e3-47a0-a7ac-a00f728ab8ed",
   "metadata": {
    "gradient": {
     "editing": false,
     "id": "88c64d70-64e3-47a0-a7ac-a00f728ab8ed",
     "kernelId": "c43ef7d2-d55f-48fa-95d3-01a67248e3ea"
    }
   },
   "source": [
    "# Building a basic Model"
   ]
  },
  {
   "cell_type": "code",
   "execution_count": null,
   "id": "291d4180",
   "metadata": {
    "gradient": {
     "editing": false,
     "id": "291d4180",
     "kernelId": "c43ef7d2-d55f-48fa-95d3-01a67248e3ea"
    }
   },
   "outputs": [
    {
     "name": "stderr",
     "output_type": "stream",
     "text": [
      "2022-01-25 13:58:11.925968: I tensorflow/stream_executor/cuda/cuda_gpu_executor.cc:1050] successful NUMA node read from SysFS had negative value (-1), but there must be at least one NUMA node, so returning NUMA node zero\n",
      "2022-01-25 13:58:11.937995: I tensorflow/stream_executor/cuda/cuda_gpu_executor.cc:1050] successful NUMA node read from SysFS had negative value (-1), but there must be at least one NUMA node, so returning NUMA node zero\n",
      "2022-01-25 13:58:11.938860: I tensorflow/stream_executor/cuda/cuda_gpu_executor.cc:1050] successful NUMA node read from SysFS had negative value (-1), but there must be at least one NUMA node, so returning NUMA node zero\n",
      "2022-01-25 13:58:11.941491: I tensorflow/stream_executor/cuda/cuda_gpu_executor.cc:1050] successful NUMA node read from SysFS had negative value (-1), but there must be at least one NUMA node, so returning NUMA node zero\n",
      "2022-01-25 13:58:11.942404: I tensorflow/stream_executor/cuda/cuda_gpu_executor.cc:1050] successful NUMA node read from SysFS had negative value (-1), but there must be at least one NUMA node, so returning NUMA node zero\n",
      "2022-01-25 13:58:11.943224: I tensorflow/stream_executor/cuda/cuda_gpu_executor.cc:1050] successful NUMA node read from SysFS had negative value (-1), but there must be at least one NUMA node, so returning NUMA node zero\n",
      "2022-01-25 13:58:13.114187: I tensorflow/stream_executor/cuda/cuda_gpu_executor.cc:1050] successful NUMA node read from SysFS had negative value (-1), but there must be at least one NUMA node, so returning NUMA node zero\n",
      "2022-01-25 13:58:13.114823: I tensorflow/stream_executor/cuda/cuda_gpu_executor.cc:1050] successful NUMA node read from SysFS had negative value (-1), but there must be at least one NUMA node, so returning NUMA node zero\n",
      "2022-01-25 13:58:13.115419: I tensorflow/stream_executor/cuda/cuda_gpu_executor.cc:1050] successful NUMA node read from SysFS had negative value (-1), but there must be at least one NUMA node, so returning NUMA node zero\n",
      "2022-01-25 13:58:13.115956: I tensorflow/core/common_runtime/gpu/gpu_device.cc:1510] Created device /job:localhost/replica:0/task:0/device:GPU:0 with 7286 MB memory:  -> device: 0, name: Quadro M4000, pci bus id: 0000:00:05.0, compute capability: 5.2\n"
     ]
    }
   ],
   "source": [
    "# Initiating a sequential model\n",
    "model = Sequential()\n",
    "\n",
    "#Convulation layer with 32 filters\n",
    "model.add(Conv2D(32, (3, 3), activation='relu', kernel_initializer='he_uniform', padding='same', input_shape=(200, 200, 3)))\n",
    "# Maxpooling layer\n",
    "model.add(MaxPooling2D((2, 2)))\n",
    "# Flatten the layer\n",
    "model.add(Flatten())\n",
    "#Adding a dense layer\n",
    "model.add(Dense(128, activation='relu', kernel_initializer='he_uniform'))\n",
    "# using sigmoid layer for binary classification \n",
    "model.add(Dense(1, activation='sigmoid'))\n",
    "# compile model\n",
    "opt = keras.optimizers.Adam(learning_rate=0.001)\n",
    "model.compile(optimizer=opt, loss='binary_crossentropy', metrics=['accuracy'])"
   ]
  },
  {
   "cell_type": "markdown",
   "id": "21abbea0-d4a1-4f0c-a27c-670ca35abb32",
   "metadata": {
    "gradient": {
     "editing": false,
     "id": "21abbea0-d4a1-4f0c-a27c-670ca35abb32",
     "kernelId": "c43ef7d2-d55f-48fa-95d3-01a67248e3ea"
    }
   },
   "source": [
    "# Creating Data Generator with image augmentation"
   ]
  },
  {
   "cell_type": "code",
   "execution_count": null,
   "id": "39060fec",
   "metadata": {
    "gradient": {
     "editing": false,
     "id": "39060fec",
     "kernelId": "c43ef7d2-d55f-48fa-95d3-01a67248e3ea"
    }
   },
   "outputs": [],
   "source": [
    "# create data generator for training with rescaling and data augmentation\n",
    "datagen_train = ImageDataGenerator(rescale=1.0/255.0,horizontal_flip=True,\n",
    "rotation_range=90)\n",
    "datagen_val=ImageDataGenerator(rescale=1.0/255.0)"
   ]
  },
  {
   "cell_type": "code",
   "execution_count": null,
   "id": "385ac90e",
   "metadata": {
    "gradient": {
     "editing": false,
     "id": "385ac90e",
     "kernelId": "c43ef7d2-d55f-48fa-95d3-01a67248e3ea"
    }
   },
   "outputs": [
    {
     "name": "stdout",
     "output_type": "stream",
     "text": [
      "Found 20006 images belonging to 2 classes.\n"
     ]
    }
   ],
   "source": [
    "train_generator = datagen_train.flow_from_directory(\n",
    "        'dataset_dogs_vs_cats/train',  # this is the target directory\n",
    "        target_size=(200, 200),  # all images will be resized to 200x200\n",
    "        batch_size=64,\n",
    "        class_mode='binary') "
   ]
  },
  {
   "cell_type": "code",
   "execution_count": null,
   "id": "d6b2c5c1",
   "metadata": {
    "gradient": {
     "editing": false,
     "id": "d6b2c5c1",
     "kernelId": "c43ef7d2-d55f-48fa-95d3-01a67248e3ea"
    }
   },
   "outputs": [
    {
     "name": "stdout",
     "output_type": "stream",
     "text": [
      "Found 4994 images belonging to 2 classes.\n"
     ]
    }
   ],
   "source": [
    "val_generator = datagen_val.flow_from_directory(\n",
    "        'dataset_dogs_vs_cats/val',  # this is the target directory\n",
    "        target_size=(200, 200),  # all images will be resized to 200x200\n",
    "        batch_size=64,\n",
    "        class_mode='binary'\n",
    ") "
   ]
  },
  {
   "cell_type": "markdown",
   "id": "5dcaa7c0-38db-4478-baa0-8b6ea50b37b0",
   "metadata": {
    "gradient": {
     "editing": false,
     "id": "5dcaa7c0-38db-4478-baa0-8b6ea50b37b0",
     "kernelId": "c43ef7d2-d55f-48fa-95d3-01a67248e3ea"
    }
   },
   "source": [
    "# Fitting the model"
   ]
  },
  {
   "cell_type": "code",
   "execution_count": null,
   "id": "e51d5200",
   "metadata": {
    "gradient": {
     "editing": false,
     "id": "e51d5200",
     "kernelId": "c43ef7d2-d55f-48fa-95d3-01a67248e3ea"
    }
   },
   "outputs": [
    {
     "name": "stderr",
     "output_type": "stream",
     "text": [
      "/usr/local/lib/python3.8/dist-packages/keras/engine/training.py:1972: UserWarning: `Model.fit_generator` is deprecated and will be removed in a future version. Please use `Model.fit`, which supports generators.\n",
      "  warnings.warn('`Model.fit_generator` is deprecated and '\n",
      "2022-01-25 14:00:36.432776: I tensorflow/compiler/mlir/mlir_graph_optimization_pass.cc:185] None of the MLIR Optimization Passes are enabled (registered 2)\n"
     ]
    },
    {
     "name": "stdout",
     "output_type": "stream",
     "text": [
      "Epoch 1/10\n"
     ]
    },
    {
     "name": "stderr",
     "output_type": "stream",
     "text": [
      "2022-01-25 14:00:38.081095: I tensorflow/stream_executor/cuda/cuda_dnn.cc:381] Loaded cuDNN version 8204\n"
     ]
    },
    {
     "name": "stdout",
     "output_type": "stream",
     "text": [
      "312/312 [==============================] - 198s 625ms/step - loss: 2.4389 - accuracy: 0.5742 - val_loss: 0.6292 - val_accuracy: 0.6661\n",
      "Epoch 2/10\n",
      "312/312 [==============================] - 195s 624ms/step - loss: 0.6840 - accuracy: 0.6360 - val_loss: 0.7359 - val_accuracy: 0.6092\n",
      "Epoch 3/10\n",
      "312/312 [==============================] - 195s 624ms/step - loss: 0.6207 - accuracy: 0.6652 - val_loss: 0.6271 - val_accuracy: 0.6733\n",
      "Epoch 4/10\n",
      "312/312 [==============================] - 195s 624ms/step - loss: 0.6067 - accuracy: 0.6724 - val_loss: 0.5876 - val_accuracy: 0.6959\n",
      "Epoch 5/10\n",
      "312/312 [==============================] - 197s 631ms/step - loss: 0.5900 - accuracy: 0.6884 - val_loss: 0.6025 - val_accuracy: 0.6919\n",
      "Epoch 6/10\n",
      "312/312 [==============================] - 197s 630ms/step - loss: 0.5858 - accuracy: 0.6895 - val_loss: 0.5722 - val_accuracy: 0.7085\n",
      "Epoch 7/10\n",
      "312/312 [==============================] - 196s 627ms/step - loss: 0.5715 - accuracy: 0.7048 - val_loss: 0.5699 - val_accuracy: 0.7143\n",
      "Epoch 8/10\n",
      "312/312 [==============================] - 196s 627ms/step - loss: 0.5714 - accuracy: 0.7029 - val_loss: 0.5827 - val_accuracy: 0.7061\n",
      "Epoch 9/10\n",
      "312/312 [==============================] - 197s 631ms/step - loss: 0.5626 - accuracy: 0.7125 - val_loss: 0.5726 - val_accuracy: 0.7093\n",
      "Epoch 10/10\n",
      "312/312 [==============================] - 197s 631ms/step - loss: 0.5597 - accuracy: 0.7144 - val_loss: 0.5837 - val_accuracy: 0.7083\n"
     ]
    }
   ],
   "source": [
    "history=model.fit_generator(\n",
    "        train_generator,\n",
    "        steps_per_epoch=train_generator.samples // 64,\n",
    "        epochs=10,\n",
    "        validation_data=val_generator,\n",
    "        validation_steps=val_generator.samples // 64)"
   ]
  },
  {
   "cell_type": "markdown",
   "id": "9d883e08-f8a3-4d3a-8ff7-a7cd0472d09a",
   "metadata": {
    "gradient": {
     "editing": true,
     "id": "9d883e08-f8a3-4d3a-8ff7-a7cd0472d09a",
     "kernelId": "c43ef7d2-d55f-48fa-95d3-01a67248e3ea"
    }
   },
   "source": [
    "# Learning Curves"
   ]
  },
  {
   "cell_type": "code",
   "execution_count": null,
   "id": "518d2e61",
   "metadata": {
    "gradient": {
     "editing": false,
     "id": "518d2e61",
     "kernelId": "c43ef7d2-d55f-48fa-95d3-01a67248e3ea"
    }
   },
   "outputs": [
    {
     "data": {
      "text/plain": [
       "<matplotlib.legend.Legend at 0x7f433d127340>"
      ]
     },
     "execution_count": 27,
     "metadata": {},
     "output_type": "execute_result"
    },
    {
     "data": {
      "image/png": "[encoded data removed]",
      "text/plain": [
       "<Figure size 1152x720 with 1 Axes>"
      ]
     },
     "metadata": {
      "needs_background": "light"
     },
     "output_type": "display_data"
    }
   ],
   "source": [
    "# plot accuracy\n",
    "plt.figure(figsize=(16,10))\n",
    "pyplot.subplot(212)\n",
    "pyplot.title('Classification Accuracy')\n",
    "pyplot.plot(history.history['accuracy'], label='train')\n",
    "pyplot.plot(history.history['val_accuracy'], label='validation')\n",
    "pyplot.legend()"
   ]
  },
  {
   "cell_type": "code",
   "execution_count": null,
   "id": "c9ccbc77",
   "metadata": {
    "gradient": {
     "editing": false,
     "id": "c9ccbc77",
     "kernelId": "c43ef7d2-d55f-48fa-95d3-01a67248e3ea"
    }
   },
   "outputs": [],
   "source": [
    "model.save_weights('first_try.h5')"
   ]
  },
  {
   "cell_type": "markdown",
   "id": "18f00d0d",
   "metadata": {
    "gradient": {
     "editing": false,
     "id": "18f00d0d",
     "kernelId": "c43ef7d2-d55f-48fa-95d3-01a67248e3ea"
    }
   },
   "source": [
    "# Second Model With Drop Out"
   ]
  },
  {
   "cell_type": "code",
   "execution_count": null,
   "id": "32a29753",
   "metadata": {
    "gradient": {
     "editing": false,
     "id": "32a29753",
     "kernelId": "c43ef7d2-d55f-48fa-95d3-01a67248e3ea"
    }
   },
   "outputs": [],
   "source": [
    "from keras.layers import Dropout\n",
    "model = Sequential()\n",
    "model.add(Conv2D(32, (3, 3), activation='relu', kernel_initializer='he_uniform', padding='same', input_shape=(200, 200, 3)))\n",
    "model.add(MaxPooling2D((2, 2)))\n",
    "model.add(Dropout(0.2))\n",
    "model.add(Conv2D(64, (3, 3), activation='relu', kernel_initializer='he_uniform', padding='same'))\n",
    "model.add(MaxPooling2D((2, 2)))\n",
    "model.add(Dropout(0.2))\n",
    "model.add(Conv2D(128, (3, 3), activation='relu', kernel_initializer='he_uniform', padding='same'))\n",
    "model.add(MaxPooling2D((2, 2)))\n",
    "model.add(Dropout(0.2))\n",
    "model.add(Flatten())\n",
    "model.add(Dense(128, activation='relu', kernel_initializer='he_uniform'))\n",
    "model.add(Dropout(0.5))\n",
    "model.add(Dense(1, activation='sigmoid'))\n",
    "opt = keras.optimizers.Adam(learning_rate=0.001)\n",
    "model.compile(optimizer=opt, loss='binary_crossentropy', metrics=['accuracy'])"
   ]
  },
  {
   "cell_type": "code",
   "execution_count": null,
   "id": "4296b304",
   "metadata": {
    "gradient": {
     "editing": false,
     "id": "4296b304",
     "kernelId": "c43ef7d2-d55f-48fa-95d3-01a67248e3ea"
    }
   },
   "outputs": [
    {
     "name": "stdout",
     "output_type": "stream",
     "text": [
      "Model: \"sequential_2\"\n",
      "_________________________________________________________________\n",
      "Layer (type)                 Output Shape              Param #   \n",
      "=================================================================\n",
      "conv2d_4 (Conv2D)            (None, 200, 200, 32)      896       \n",
      "_________________________________________________________________\n",
      "max_pooling2d_4 (MaxPooling2 (None, 100, 100, 32)      0         \n",
      "_________________________________________________________________\n",
      "dropout_4 (Dropout)          (None, 100, 100, 32)      0         \n",
      "_________________________________________________________________\n",
      "conv2d_5 (Conv2D)            (None, 100, 100, 64)      18496     \n",
      "_________________________________________________________________\n",
      "max_pooling2d_5 (MaxPooling2 (None, 50, 50, 64)        0         \n",
      "_________________________________________________________________\n",
      "dropout_5 (Dropout)          (None, 50, 50, 64)        0         \n",
      "_________________________________________________________________\n",
      "conv2d_6 (Conv2D)            (None, 50, 50, 128)       73856     \n",
      "_________________________________________________________________\n",
      "max_pooling2d_6 (MaxPooling2 (None, 25, 25, 128)       0         \n",
      "_________________________________________________________________\n",
      "dropout_6 (Dropout)          (None, 25, 25, 128)       0         \n",
      "_________________________________________________________________\n",
      "flatten_2 (Flatten)          (None, 80000)             0         \n",
      "_________________________________________________________________\n",
      "dense_4 (Dense)              (None, 128)               10240128  \n",
      "_________________________________________________________________\n",
      "dropout_7 (Dropout)          (None, 128)               0         \n",
      "_________________________________________________________________\n",
      "dense_5 (Dense)              (None, 1)                 129       \n",
      "=================================================================\n",
      "Total params: 10,333,505\n",
      "Trainable params: 10,333,505\n",
      "Non-trainable params: 0\n",
      "_________________________________________________________________\n"
     ]
    }
   ],
   "source": [
    "model.summary()"
   ]
  },
  {
   "cell_type": "code",
   "execution_count": null,
   "id": "46a523c2",
   "metadata": {
    "gradient": {
     "editing": false,
     "id": "46a523c2",
     "kernelId": "c43ef7d2-d55f-48fa-95d3-01a67248e3ea"
    }
   },
   "outputs": [
    {
     "name": "stdout",
     "output_type": "stream",
     "text": [
      "Epoch 1/10\n",
      "312/312 [==============================] - 200s 635ms/step - loss: 1.6713 - accuracy: 0.5142 - val_loss: 0.6882 - val_accuracy: 0.5661\n",
      "Epoch 2/10\n",
      "312/312 [==============================] - 201s 643ms/step - loss: 0.6769 - accuracy: 0.5655 - val_loss: 0.6425 - val_accuracy: 0.6076\n",
      "Epoch 3/10\n",
      "312/312 [==============================] - 212s 680ms/step - loss: 0.6367 - accuracy: 0.6359 - val_loss: 0.6012 - val_accuracy: 0.6631\n",
      "Epoch 4/10\n",
      "312/312 [==============================] - 201s 644ms/step - loss: 0.5976 - accuracy: 0.6785 - val_loss: 0.5752 - val_accuracy: 0.6857\n",
      "Epoch 5/10\n",
      "312/312 [==============================] - 198s 635ms/step - loss: 0.5787 - accuracy: 0.7013 - val_loss: 0.5680 - val_accuracy: 0.6851\n",
      "Epoch 6/10\n",
      "312/312 [==============================] - 189s 607ms/step - loss: 0.5626 - accuracy: 0.7128 - val_loss: 0.5416 - val_accuracy: 0.7312\n",
      "Epoch 7/10\n",
      "312/312 [==============================] - 193s 619ms/step - loss: 0.5477 - accuracy: 0.7207 - val_loss: 0.5412 - val_accuracy: 0.7171\n",
      "Epoch 8/10\n",
      "312/312 [==============================] - 191s 613ms/step - loss: 0.5371 - accuracy: 0.7277 - val_loss: 0.5218 - val_accuracy: 0.7442\n",
      "Epoch 9/10\n",
      "312/312 [==============================] - 189s 604ms/step - loss: 0.5277 - accuracy: 0.7365 - val_loss: 0.5580 - val_accuracy: 0.7288\n",
      "Epoch 10/10\n",
      "312/312 [==============================] - 192s 615ms/step - loss: 0.5234 - accuracy: 0.7397 - val_loss: 0.5296 - val_accuracy: 0.7360\n"
     ]
    }
   ],
   "source": [
    "import PIL\n",
    "history=model.fit_generator(\n",
    "        train_generator,\n",
    "        steps_per_epoch=train_generator.samples // 64,\n",
    "        epochs=10,\n",
    "        validation_data=val_generator,\n",
    "        validation_steps=val_generator.samples // 64)"
   ]
  },
  {
   "cell_type": "code",
   "execution_count": null,
   "id": "47c2139c",
   "metadata": {
    "gradient": {
     "editing": false,
     "id": "47c2139c",
     "kernelId": "c43ef7d2-d55f-48fa-95d3-01a67248e3ea"
    }
   },
   "outputs": [
    {
     "data": {
      "text/plain": [
       "<matplotlib.legend.Legend at 0x7f433c179c70>"
      ]
     },
     "execution_count": 34,
     "metadata": {},
     "output_type": "execute_result"
    },
    {
     "data": {
      "image/png": "[encoded data removed]",
      "text/plain": [
       "<Figure size 1152x720 with 1 Axes>"
      ]
     },
     "metadata": {
      "needs_background": "light"
     },
     "output_type": "display_data"
    }
   ],
   "source": [
    "# plot accuracy\n",
    "plt.figure(figsize=(16,10))\n",
    "pyplot.subplot(212)\n",
    "pyplot.title('Classification Accuracy')\n",
    "pyplot.plot(history.history['accuracy'], label='train')\n",
    "pyplot.plot(history.history['val_accuracy'], label='validation')\n",
    "pyplot.legend()"
   ]
  },
  {
   "cell_type": "code",
   "execution_count": null,
   "id": "9c755ccc-d68f-4254-94d8-fd1400cb82b3",
   "metadata": {
    "gradient": {
     "editing": false,
     "id": "9c755ccc-d68f-4254-94d8-fd1400cb82b3",
     "kernelId": "c43ef7d2-d55f-48fa-95d3-01a67248e3ea",
     "source_hidden": false
    }
   },
   "outputs": [],
   "source": [
    "model.save_weights('second_try_with_dropout.h5')"
   ]
  },
  {
   "cell_type": "markdown",
   "id": "1bae8a6a-7e87-4467-894f-92e240dff80e",
   "metadata": {
    "gradient": {
     "editing": false,
     "id": "1bae8a6a-7e87-4467-894f-92e240dff80e",
     "kernelId": "c43ef7d2-d55f-48fa-95d3-01a67248e3ea"
    }
   },
   "source": [
    "# Transfer Learning"
   ]
  },
  {
   "cell_type": "code",
   "execution_count": 4,
   "id": "00ce724b-87e2-4c7e-bea8-61887aed25c0",
   "metadata": {
    "gradient": {
     "editing": false,
     "id": "00ce724b-87e2-4c7e-bea8-61887aed25c0",
     "kernelId": "c43ef7d2-d55f-48fa-95d3-01a67248e3ea",
     "source_hidden": false
    }
   },
   "outputs": [],
   "source": [
    "from keras.applications.vgg16 import VGG16\n",
    "import PIL\n",
    "from keras.models import Model"
   ]
  },
  {
   "cell_type": "code",
   "execution_count": null,
   "id": "06fb0e57-f6cc-49ab-a3af-a5ea35551cb0",
   "metadata": {
    "gradient": {
     "editing": false,
     "id": "06fb0e57-f6cc-49ab-a3af-a5ea35551cb0",
     "kernelId": "c43ef7d2-d55f-48fa-95d3-01a67248e3ea",
     "source_hidden": false
    }
   },
   "outputs": [],
   "source": [
    "inputs=keras.Input(shape=(200,200,3))"
   ]
  },
  {
   "cell_type": "code",
   "execution_count": null,
   "id": "4c1af842-2e88-45ce-a3bf-e140b331a6db",
   "metadata": {
    "gradient": {
     "editing": false,
     "id": "4c1af842-2e88-45ce-a3bf-e140b331a6db",
     "kernelId": "c43ef7d2-d55f-48fa-95d3-01a67248e3ea",
     "source_hidden": false
    }
   },
   "outputs": [
    {
     "name": "stderr",
     "output_type": "stream",
     "text": [
      "/usr/local/lib/python3.8/dist-packages/keras/optimizer_v2/optimizer_v2.py:355: UserWarning: The `lr` argument is deprecated, use `learning_rate` instead.\n",
      "  warnings.warn(\n"
     ]
    }
   ],
   "source": [
    "model = VGG16(include_top=False, input_shape=(200, 200, 3))\n",
    "# mark loaded layers as not trainable\n",
    "model.trainable = False\n",
    "# add new classifier layers\n",
    "flat1 = Flatten()(model.layers[-1].output)\n",
    "class1 = Dense(128, activation='relu', kernel_initializer='he_uniform')(flat1)\n",
    "output = Dense(1, activation='sigmoid')(class1)\n",
    "# define new model\n",
    "model = Model(inputs=model.inputs, outputs=output)\n",
    "# compile model\n",
    "opt = SGD(lr=0.001, momentum=0.9)\n",
    "model.compile(optimizer=opt, loss='binary_crossentropy', metrics=['accuracy'])\n"
   ]
  },
  {
   "cell_type": "code",
   "execution_count": null,
   "id": "d88c67e7-9f0c-4d8c-856d-c359204b72cc",
   "metadata": {
    "gradient": {
     "editing": false,
     "id": "d88c67e7-9f0c-4d8c-856d-c359204b72cc",
     "kernelId": "c43ef7d2-d55f-48fa-95d3-01a67248e3ea",
     "source_hidden": false
    }
   },
   "outputs": [
    {
     "name": "stdout",
     "output_type": "stream",
     "text": [
      "Model: \"model\"\n",
      "_________________________________________________________________\n",
      "Layer (type)                 Output Shape              Param #   \n",
      "=================================================================\n",
      "input_3 (InputLayer)         [(None, 200, 200, 3)]     0         \n",
      "_________________________________________________________________\n",
      "block1_conv1 (Conv2D)        (None, 200, 200, 64)      1792      \n",
      "_________________________________________________________________\n",
      "block1_conv2 (Conv2D)        (None, 200, 200, 64)      36928     \n",
      "_________________________________________________________________\n",
      "block1_pool (MaxPooling2D)   (None, 100, 100, 64)      0         \n",
      "_________________________________________________________________\n",
      "block2_conv1 (Conv2D)        (None, 100, 100, 128)     73856     \n",
      "_________________________________________________________________\n",
      "block2_conv2 (Conv2D)        (None, 100, 100, 128)     147584    \n",
      "_________________________________________________________________\n",
      "block2_pool (MaxPooling2D)   (None, 50, 50, 128)       0         \n",
      "_________________________________________________________________\n",
      "block3_conv1 (Conv2D)        (None, 50, 50, 256)       295168    \n",
      "_________________________________________________________________\n",
      "block3_conv2 (Conv2D)        (None, 50, 50, 256)       590080    \n",
      "_________________________________________________________________\n",
      "block3_conv3 (Conv2D)        (None, 50, 50, 256)       590080    \n",
      "_________________________________________________________________\n",
      "block3_pool (MaxPooling2D)   (None, 25, 25, 256)       0         \n",
      "_________________________________________________________________\n",
      "block4_conv1 (Conv2D)        (None, 25, 25, 512)       1180160   \n",
      "_________________________________________________________________\n",
      "block4_conv2 (Conv2D)        (None, 25, 25, 512)       2359808   \n",
      "_________________________________________________________________\n",
      "block4_conv3 (Conv2D)        (None, 25, 25, 512)       2359808   \n",
      "_________________________________________________________________\n",
      "block4_pool (MaxPooling2D)   (None, 12, 12, 512)       0         \n",
      "_________________________________________________________________\n",
      "block5_conv1 (Conv2D)        (None, 12, 12, 512)       2359808   \n",
      "_________________________________________________________________\n",
      "block5_conv2 (Conv2D)        (None, 12, 12, 512)       2359808   \n",
      "_________________________________________________________________\n",
      "block5_conv3 (Conv2D)        (None, 12, 12, 512)       2359808   \n",
      "_________________________________________________________________\n",
      "block5_pool (MaxPooling2D)   (None, 6, 6, 512)         0         \n",
      "_________________________________________________________________\n",
      "flatten (Flatten)            (None, 18432)             0         \n",
      "_________________________________________________________________\n",
      "dense (Dense)                (None, 128)               2359424   \n",
      "_________________________________________________________________\n",
      "dense_1 (Dense)              (None, 1)                 129       \n",
      "=================================================================\n",
      "Total params: 17,074,241\n",
      "Trainable params: 2,359,553\n",
      "Non-trainable params: 14,714,688\n",
      "_________________________________________________________________\n"
     ]
    }
   ],
   "source": [
    "model.summary()"
   ]
  },
  {
   "cell_type": "code",
   "execution_count": null,
   "id": "32f85dea-5d2a-42df-a51f-b81d3092801b",
   "metadata": {
    "gradient": {
     "editing": false,
     "id": "32f85dea-5d2a-42df-a51f-b81d3092801b",
     "kernelId": "c43ef7d2-d55f-48fa-95d3-01a67248e3ea",
     "source_hidden": false
    }
   },
   "outputs": [
    {
     "name": "stdout",
     "output_type": "stream",
     "text": [
      "Epoch 1/10\n",
      "312/312 [==============================] - 233s 742ms/step - loss: 0.4525 - accuracy: 0.7776 - val_loss: 0.2866 - val_accuracy: 0.8736\n",
      "Epoch 2/10\n",
      "312/312 [==============================] - 208s 667ms/step - loss: 0.3401 - accuracy: 0.8514 - val_loss: 0.2393 - val_accuracy: 0.8964\n",
      "Epoch 3/10\n",
      "312/312 [==============================] - 210s 671ms/step - loss: 0.3222 - accuracy: 0.8577 - val_loss: 0.2188 - val_accuracy: 0.9091\n",
      "Epoch 4/10\n",
      "312/312 [==============================] - 209s 670ms/step - loss: 0.3076 - accuracy: 0.8656 - val_loss: 0.2553 - val_accuracy: 0.8840\n",
      "Epoch 5/10\n",
      "312/312 [==============================] - 210s 673ms/step - loss: 0.3055 - accuracy: 0.8669 - val_loss: 0.2078 - val_accuracy: 0.9117\n",
      "Epoch 6/10\n",
      "312/312 [==============================] - 210s 673ms/step - loss: 0.2889 - accuracy: 0.8744 - val_loss: 0.2082 - val_accuracy: 0.9085\n",
      "Epoch 7/10\n",
      "312/312 [==============================] - 209s 668ms/step - loss: 0.2894 - accuracy: 0.8735 - val_loss: 0.2340 - val_accuracy: 0.9040\n",
      "Epoch 8/10\n",
      "312/312 [==============================] - 212s 679ms/step - loss: 0.2898 - accuracy: 0.8726 - val_loss: 0.2137 - val_accuracy: 0.9135\n",
      "Epoch 9/10\n",
      "312/312 [==============================] - 209s 667ms/step - loss: 0.2872 - accuracy: 0.8751 - val_loss: 0.3012 - val_accuracy: 0.8694\n",
      "Epoch 10/10\n",
      "312/312 [==============================] - 211s 676ms/step - loss: 0.2733 - accuracy: 0.8837 - val_loss: 0.2046 - val_accuracy: 0.9105\n"
     ]
    }
   ],
   "source": [
    "history=model.fit(\n",
    "        train_generator,\n",
    "        steps_per_epoch=train_generator.samples // 64,\n",
    "        epochs=10,\n",
    "        validation_data=val_generator,\n",
    "        validation_steps=val_generator.samples // 64)"
   ]
  },
  {
   "cell_type": "code",
   "execution_count": null,
   "id": "c435a6f9",
   "metadata": {
    "gradient": {
     "editing": false,
     "id": "c435a6f9",
     "kernelId": "c43ef7d2-d55f-48fa-95d3-01a67248e3ea"
    }
   },
   "outputs": [
    {
     "data": {
      "text/plain": [
       "<matplotlib.legend.Legend at 0x7fe7644b2e80>"
      ]
     },
     "execution_count": 24,
     "metadata": {},
     "output_type": "execute_result"
    },
    {
     "data": {
      "image/png": "[encoded data removed]",
      "text/plain": [
       "<Figure size 1152x720 with 1 Axes>"
      ]
     },
     "metadata": {
      "needs_background": "light"
     },
     "output_type": "display_data"
    }
   ],
   "source": [
    "# plot accuracy\n",
    "plt.figure(figsize=(16,10))\n",
    "pyplot.subplot(212)\n",
    "pyplot.title('Classification Accuracy')\n",
    "pyplot.plot(history.history['accuracy'], label='train')\n",
    "pyplot.plot(history.history['val_accuracy'], label='validation')\n",
    "pyplot.legend()"
   ]
  },
  {
   "cell_type": "markdown",
   "id": "e9040251-cb04-41d5-bdd8-1291541a5d89",
   "metadata": {
    "gradient": {
     "editing": true,
     "id": "e9040251-cb04-41d5-bdd8-1291541a5d89",
     "kernelId": "c43ef7d2-d55f-48fa-95d3-01a67248e3ea"
    }
   },
   "source": [
    "# Training all the weights"
   ]
  },
  {
   "cell_type": "code",
   "execution_count": null,
   "id": "66081382-c972-447f-b14d-82ca1b7fae56",
   "metadata": {
    "gradient": {
     "editing": false,
     "id": "66081382-c972-447f-b14d-82ca1b7fae56",
     "kernelId": "c43ef7d2-d55f-48fa-95d3-01a67248e3ea",
     "source_hidden": false
    }
   },
   "outputs": [],
   "source": [
    "model.trainable = True"
   ]
  },
  {
   "cell_type": "code",
   "execution_count": null,
   "id": "5ade9eb1-6307-42e0-9900-26ac3d3dc254",
   "metadata": {
    "gradient": {
     "editing": false,
     "id": "5ade9eb1-6307-42e0-9900-26ac3d3dc254",
     "kernelId": "c43ef7d2-d55f-48fa-95d3-01a67248e3ea",
     "source_hidden": false
    }
   },
   "outputs": [
    {
     "name": "stdout",
     "output_type": "stream",
     "text": [
      "Model: \"model\"\n",
      "_________________________________________________________________\n",
      "Layer (type)                 Output Shape              Param #   \n",
      "=================================================================\n",
      "input_3 (InputLayer)         [(None, 200, 200, 3)]     0         \n",
      "_________________________________________________________________\n",
      "block1_conv1 (Conv2D)        (None, 200, 200, 64)      1792      \n",
      "_________________________________________________________________\n",
      "block1_conv2 (Conv2D)        (None, 200, 200, 64)      36928     \n",
      "_________________________________________________________________\n",
      "block1_pool (MaxPooling2D)   (None, 100, 100, 64)      0         \n",
      "_________________________________________________________________\n",
      "block2_conv1 (Conv2D)        (None, 100, 100, 128)     73856     \n",
      "_________________________________________________________________\n",
      "block2_conv2 (Conv2D)        (None, 100, 100, 128)     147584    \n",
      "_________________________________________________________________\n",
      "block2_pool (MaxPooling2D)   (None, 50, 50, 128)       0         \n",
      "_________________________________________________________________\n",
      "block3_conv1 (Conv2D)        (None, 50, 50, 256)       295168    \n",
      "_________________________________________________________________\n",
      "block3_conv2 (Conv2D)        (None, 50, 50, 256)       590080    \n",
      "_________________________________________________________________\n",
      "block3_conv3 (Conv2D)        (None, 50, 50, 256)       590080    \n",
      "_________________________________________________________________\n",
      "block3_pool (MaxPooling2D)   (None, 25, 25, 256)       0         \n",
      "_________________________________________________________________\n",
      "block4_conv1 (Conv2D)        (None, 25, 25, 512)       1180160   \n",
      "_________________________________________________________________\n",
      "block4_conv2 (Conv2D)        (None, 25, 25, 512)       2359808   \n",
      "_________________________________________________________________\n",
      "block4_conv3 (Conv2D)        (None, 25, 25, 512)       2359808   \n",
      "_________________________________________________________________\n",
      "block4_pool (MaxPooling2D)   (None, 12, 12, 512)       0         \n",
      "_________________________________________________________________\n",
      "block5_conv1 (Conv2D)        (None, 12, 12, 512)       2359808   \n",
      "_________________________________________________________________\n",
      "block5_conv2 (Conv2D)        (None, 12, 12, 512)       2359808   \n",
      "_________________________________________________________________\n",
      "block5_conv3 (Conv2D)        (None, 12, 12, 512)       2359808   \n",
      "_________________________________________________________________\n",
      "block5_pool (MaxPooling2D)   (None, 6, 6, 512)         0         \n",
      "_________________________________________________________________\n",
      "flatten (Flatten)            (None, 18432)             0         \n",
      "_________________________________________________________________\n",
      "dense (Dense)                (None, 128)               2359424   \n",
      "_________________________________________________________________\n",
      "dense_1 (Dense)              (None, 1)                 129       \n",
      "=================================================================\n",
      "Total params: 17,074,241\n",
      "Trainable params: 17,074,241\n",
      "Non-trainable params: 0\n",
      "_________________________________________________________________\n"
     ]
    }
   ],
   "source": [
    "model.summary()"
   ]
  },
  {
   "cell_type": "code",
   "execution_count": null,
   "id": "461a1da2",
   "metadata": {
    "gradient": {
     "editing": false,
     "id": "461a1da2",
     "kernelId": "c43ef7d2-d55f-48fa-95d3-01a67248e3ea"
    }
   },
   "outputs": [],
   "source": [
    "opt = keras.optimizers.Adam(learning_rate=0.00001)"
   ]
  },
  {
   "cell_type": "code",
   "execution_count": null,
   "id": "c6cbfbcb-0f55-4a64-8825-65707f83b465",
   "metadata": {
    "gradient": {
     "editing": false,
     "id": "c6cbfbcb-0f55-4a64-8825-65707f83b465",
     "kernelId": "c43ef7d2-d55f-48fa-95d3-01a67248e3ea",
     "source_hidden": false
    }
   },
   "outputs": [],
   "source": [
    "model.compile(optimizer=opt, loss='binary_crossentropy', metrics=['accuracy'])"
   ]
  },
  {
   "cell_type": "code",
   "execution_count": null,
   "id": "2c31ff2f-a16b-48a2-b541-2a25e42f50a0",
   "metadata": {
    "gradient": {
     "editing": false,
     "id": "2c31ff2f-a16b-48a2-b541-2a25e42f50a0",
     "kernelId": "c43ef7d2-d55f-48fa-95d3-01a67248e3ea",
     "source_hidden": false
    }
   },
   "outputs": [
    {
     "name": "stderr",
     "output_type": "stream",
     "text": [
      "/usr/local/lib/python3.8/dist-packages/keras/engine/training.py:1972: UserWarning: `Model.fit_generator` is deprecated and will be removed in a future version. Please use `Model.fit`, which supports generators.\n",
      "  warnings.warn('`Model.fit_generator` is deprecated and '\n",
      "2022-01-25 23:16:52.575754: I tensorflow/compiler/mlir/mlir_graph_optimization_pass.cc:185] None of the MLIR Optimization Passes are enabled (registered 2)\n"
     ]
    },
    {
     "name": "stdout",
     "output_type": "stream",
     "text": [
      "Epoch 1/10\n"
     ]
    },
    {
     "name": "stderr",
     "output_type": "stream",
     "text": [
      "2022-01-25 23:16:54.937397: I tensorflow/stream_executor/cuda/cuda_dnn.cc:381] Loaded cuDNN version 8204\n"
     ]
    },
    {
     "name": "stdout",
     "output_type": "stream",
     "text": [
      "312/312 [==============================] - 503s 2s/step - loss: 0.2397 - accuracy: 0.8943 - val_loss: 0.0906 - val_accuracy: 0.9637\n",
      "Epoch 2/10\n",
      "312/312 [==============================] - 445s 1s/step - loss: 0.1211 - accuracy: 0.9502 - val_loss: 0.0630 - val_accuracy: 0.9774\n",
      "Epoch 3/10\n",
      "312/312 [==============================] - 436s 1s/step - loss: 0.0929 - accuracy: 0.9633 - val_loss: 0.0562 - val_accuracy: 0.9780\n",
      "Epoch 4/10\n",
      "312/312 [==============================] - 436s 1s/step - loss: 0.0760 - accuracy: 0.9703 - val_loss: 0.0554 - val_accuracy: 0.9798\n",
      "Epoch 5/10\n",
      "312/312 [==============================] - 436s 1s/step - loss: 0.0705 - accuracy: 0.9721 - val_loss: 0.0506 - val_accuracy: 0.9808\n",
      "Epoch 6/10\n",
      "312/312 [==============================] - 436s 1s/step - loss: 0.0644 - accuracy: 0.9756 - val_loss: 0.0456 - val_accuracy: 0.9836\n",
      "Epoch 7/10\n",
      "312/312 [==============================] - 436s 1s/step - loss: 0.0540 - accuracy: 0.9797 - val_loss: 0.0399 - val_accuracy: 0.9836\n",
      "Epoch 8/10\n",
      "312/312 [==============================] - 436s 1s/step - loss: 0.0530 - accuracy: 0.9804 - val_loss: 0.0423 - val_accuracy: 0.9842\n",
      "Epoch 9/10\n",
      "312/312 [==============================] - 436s 1s/step - loss: 0.0443 - accuracy: 0.9841 - val_loss: 0.0451 - val_accuracy: 0.9820\n",
      "Epoch 10/10\n",
      "312/312 [==============================] - 449s 1s/step - loss: 0.0437 - accuracy: 0.9841 - val_loss: 0.0382 - val_accuracy: 0.9858\n"
     ]
    }
   ],
   "source": [
    "history=model.fit_generator(\n",
    "        train_generator,\n",
    "        steps_per_epoch=train_generator.samples // 64,\n",
    "        epochs=10,\n",
    "        validation_data=val_generator,\n",
    "        validation_steps=val_generator.samples // 64)"
   ]
  },
  {
   "cell_type": "code",
   "execution_count": null,
   "id": "fc478f04-6441-4b9b-ab53-5795102e11e4",
   "metadata": {
    "gradient": {
     "editing": false,
     "id": "fc478f04-6441-4b9b-ab53-5795102e11e4",
     "kernelId": "c43ef7d2-d55f-48fa-95d3-01a67248e3ea",
     "source_hidden": false
    }
   },
   "outputs": [
    {
     "data": {
      "text/plain": [
       "<matplotlib.legend.Legend at 0x7f13a0857df0>"
      ]
     },
     "execution_count": 21,
     "metadata": {},
     "output_type": "execute_result"
    },
    {
     "data": {
      "image/png": "[encoded data removed]",
      "text/plain": [
       "<Figure size 1152x720 with 1 Axes>"
      ]
     },
     "metadata": {
      "needs_background": "light"
     },
     "output_type": "display_data"
    }
   ],
   "source": [
    "# plot accuracy\n",
    "plt.figure(figsize=(16,10))\n",
    "pyplot.subplot(212)\n",
    "pyplot.title('Classification Accuracy')\n",
    "pyplot.plot(history.history['accuracy'], label='train')\n",
    "pyplot.plot(history.history['val_accuracy'], label='validation')\n",
    "pyplot.legend()"
   ]
  },
  {
   "cell_type": "code",
   "execution_count": null,
   "id": "4f7fdafb-8568-4867-ba62-c2a255e9022a",
   "metadata": {
    "gradient": {
     "editing": false,
     "id": "4f7fdafb-8568-4867-ba62-c2a255e9022a",
     "kernelId": "c43ef7d2-d55f-48fa-95d3-01a67248e3ea",
     "source_hidden": false
    }
   },
   "outputs": [],
   "source": [
    "model.save_weights('fourth_try_with_vgg16.h5')"
   ]
  },
  {
   "cell_type": "markdown",
   "id": "354dc0f0-f66a-48dd-b80f-22352010a07f",
   "metadata": {
    "gradient": {
     "editing": false,
     "id": "354dc0f0-f66a-48dd-b80f-22352010a07f",
     "kernelId": "c43ef7d2-d55f-48fa-95d3-01a67248e3ea"
    }
   },
   "source": [
    "# Resnet"
   ]
  },
  {
   "cell_type": "code",
   "execution_count": null,
   "id": "e0bf39aa-d8d7-4cc5-8ef7-266e53c02141",
   "metadata": {
    "gradient": {
     "editing": false,
     "id": "e0bf39aa-d8d7-4cc5-8ef7-266e53c02141",
     "kernelId": "c43ef7d2-d55f-48fa-95d3-01a67248e3ea",
     "source_hidden": false
    }
   },
   "outputs": [],
   "source": [
    "from keras.applications.resnet import ResNet50"
   ]
  },
  {
   "cell_type": "code",
   "execution_count": null,
   "id": "68a69bca-ac91-4938-93ad-9cf1078372ab",
   "metadata": {
    "gradient": {
     "editing": false,
     "id": "68a69bca-ac91-4938-93ad-9cf1078372ab",
     "kernelId": "c43ef7d2-d55f-48fa-95d3-01a67248e3ea",
     "source_hidden": false
    }
   },
   "outputs": [],
   "source": [
    "model = ResNet18(include_top=False, input_shape=(200, 200, 3))\n",
    "# mark loaded layers as not trainable\n",
    "model.trainable = False\n",
    "# add new classifier layers\n",
    "flat1 = Flatten()(model.layers[-1].output)\n",
    "class1 = Dense(128, activation='relu', kernel_initializer='he_uniform')(flat1)\n",
    "output = Dense(1, activation='sigmoid')(class1)\n",
    "# define new model\n",
    "model = Model(inputs=model.inputs, outputs=output)\n",
    "# compile model\n",
    "opt = keras.optimizers.Adam(learning_rate=0.00001)\n",
    "model.compile(optimizer=opt, loss='binary_crossentropy', metrics=['accuracy'])"
   ]
  },
  {
   "cell_type": "code",
   "execution_count": null,
   "id": "0a40631e-5bee-461a-9332-629abe3ff1c4",
   "metadata": {
    "gradient": {
     "editing": false,
     "id": "0a40631e-5bee-461a-9332-629abe3ff1c4",
     "kernelId": "c43ef7d2-d55f-48fa-95d3-01a67248e3ea",
     "source_hidden": false
    }
   },
   "outputs": [
    {
     "name": "stdout",
     "output_type": "stream",
     "text": [
      "Model: \"model\"\n",
      "__________________________________________________________________________________________________\n",
      "Layer (type)                    Output Shape         Param #     Connected to                     \n",
      "==================================================================================================\n",
      "input_2 (InputLayer)            [(None, 200, 200, 3) 0                                            \n",
      "__________________________________________________________________________________________________\n",
      "conv1_pad (ZeroPadding2D)       (None, 206, 206, 3)  0           input_2[0][0]                    \n",
      "__________________________________________________________________________________________________\n",
      "conv1_conv (Conv2D)             (None, 100, 100, 64) 9472        conv1_pad[0][0]                  \n",
      "__________________________________________________________________________________________________\n",
      "conv1_bn (BatchNormalization)   (None, 100, 100, 64) 256         conv1_conv[0][0]                 \n",
      "__________________________________________________________________________________________________\n",
      "conv1_relu (Activation)         (None, 100, 100, 64) 0           conv1_bn[0][0]                   \n",
      "__________________________________________________________________________________________________\n",
      "pool1_pad (ZeroPadding2D)       (None, 102, 102, 64) 0           conv1_relu[0][0]                 \n",
      "__________________________________________________________________________________________________\n",
      "pool1_pool (MaxPooling2D)       (None, 50, 50, 64)   0           pool1_pad[0][0]                  \n",
      "__________________________________________________________________________________________________\n",
      "conv2_block1_1_conv (Conv2D)    (None, 50, 50, 64)   4160        pool1_pool[0][0]                 \n",
      "__________________________________________________________________________________________________\n",
      "conv2_block1_1_bn (BatchNormali (None, 50, 50, 64)   256         conv2_block1_1_conv[0][0]        \n",
      "__________________________________________________________________________________________________\n",
      "conv2_block1_1_relu (Activation (None, 50, 50, 64)   0           conv2_block1_1_bn[0][0]          \n",
      "__________________________________________________________________________________________________\n",
      "conv2_block1_2_conv (Conv2D)    (None, 50, 50, 64)   36928       conv2_block1_1_relu[0][0]        \n",
      "__________________________________________________________________________________________________\n",
      "conv2_block1_2_bn (BatchNormali (None, 50, 50, 64)   256         conv2_block1_2_conv[0][0]        \n",
      "__________________________________________________________________________________________________\n",
      "conv2_block1_2_relu (Activation (None, 50, 50, 64)   0           conv2_block1_2_bn[0][0]          \n",
      "__________________________________________________________________________________________________\n",
      "conv2_block1_0_conv (Conv2D)    (None, 50, 50, 256)  16640       pool1_pool[0][0]                 \n",
      "__________________________________________________________________________________________________\n",
      "conv2_block1_3_conv (Conv2D)    (None, 50, 50, 256)  16640       conv2_block1_2_relu[0][0]        \n",
      "__________________________________________________________________________________________________\n",
      "conv2_block1_0_bn (BatchNormali (None, 50, 50, 256)  1024        conv2_block1_0_conv[0][0]        \n",
      "__________________________________________________________________________________________________\n",
      "conv2_block1_3_bn (BatchNormali (None, 50, 50, 256)  1024        conv2_block1_3_conv[0][0]        \n",
      "__________________________________________________________________________________________________\n",
      "conv2_block1_add (Add)          (None, 50, 50, 256)  0           conv2_block1_0_bn[0][0]          \n",
      "                                                                 conv2_block1_3_bn[0][0]          \n",
      "__________________________________________________________________________________________________\n",
      "conv2_block1_out (Activation)   (None, 50, 50, 256)  0           conv2_block1_add[0][0]           \n",
      "__________________________________________________________________________________________________\n",
      "conv2_block2_1_conv (Conv2D)    (None, 50, 50, 64)   16448       conv2_block1_out[0][0]           \n",
      "__________________________________________________________________________________________________\n",
      "conv2_block2_1_bn (BatchNormali (None, 50, 50, 64)   256         conv2_block2_1_conv[0][0]        \n",
      "__________________________________________________________________________________________________\n",
      "conv2_block2_1_relu (Activation (None, 50, 50, 64)   0           conv2_block2_1_bn[0][0]          \n",
      "__________________________________________________________________________________________________\n",
      "conv2_block2_2_conv (Conv2D)    (None, 50, 50, 64)   36928       conv2_block2_1_relu[0][0]        \n",
      "__________________________________________________________________________________________________\n",
      "conv2_block2_2_bn (BatchNormali (None, 50, 50, 64)   256         conv2_block2_2_conv[0][0]        \n",
      "__________________________________________________________________________________________________\n",
      "conv2_block2_2_relu (Activation (None, 50, 50, 64)   0           conv2_block2_2_bn[0][0]          \n",
      "__________________________________________________________________________________________________\n",
      "conv2_block2_3_conv (Conv2D)    (None, 50, 50, 256)  16640       conv2_block2_2_relu[0][0]        \n",
      "__________________________________________________________________________________________________\n",
      "conv2_block2_3_bn (BatchNormali (None, 50, 50, 256)  1024        conv2_block2_3_conv[0][0]        \n",
      "__________________________________________________________________________________________________\n",
      "conv2_block2_add (Add)          (None, 50, 50, 256)  0           conv2_block1_out[0][0]           \n",
      "                                                                 conv2_block2_3_bn[0][0]          \n",
      "__________________________________________________________________________________________________\n",
      "conv2_block2_out (Activation)   (None, 50, 50, 256)  0           conv2_block2_add[0][0]           \n",
      "__________________________________________________________________________________________________\n",
      "conv2_block3_1_conv (Conv2D)    (None, 50, 50, 64)   16448       conv2_block2_out[0][0]           \n",
      "__________________________________________________________________________________________________\n",
      "conv2_block3_1_bn (BatchNormali (None, 50, 50, 64)   256         conv2_block3_1_conv[0][0]        \n",
      "__________________________________________________________________________________________________\n",
      "conv2_block3_1_relu (Activation (None, 50, 50, 64)   0           conv2_block3_1_bn[0][0]          \n",
      "__________________________________________________________________________________________________\n",
      "conv2_block3_2_conv (Conv2D)    (None, 50, 50, 64)   36928       conv2_block3_1_relu[0][0]        \n",
      "__________________________________________________________________________________________________\n",
      "conv2_block3_2_bn (BatchNormali (None, 50, 50, 64)   256         conv2_block3_2_conv[0][0]        \n",
      "__________________________________________________________________________________________________\n",
      "conv2_block3_2_relu (Activation (None, 50, 50, 64)   0           conv2_block3_2_bn[0][0]          \n",
      "__________________________________________________________________________________________________\n",
      "conv2_block3_3_conv (Conv2D)    (None, 50, 50, 256)  16640       conv2_block3_2_relu[0][0]        \n",
      "__________________________________________________________________________________________________\n",
      "conv2_block3_3_bn (BatchNormali (None, 50, 50, 256)  1024        conv2_block3_3_conv[0][0]        \n",
      "__________________________________________________________________________________________________\n",
      "conv2_block3_add (Add)          (None, 50, 50, 256)  0           conv2_block2_out[0][0]           \n",
      "                                                                 conv2_block3_3_bn[0][0]          \n",
      "__________________________________________________________________________________________________\n",
      "conv2_block3_out (Activation)   (None, 50, 50, 256)  0           conv2_block3_add[0][0]           \n",
      "__________________________________________________________________________________________________\n",
      "conv3_block1_1_conv (Conv2D)    (None, 25, 25, 128)  32896       conv2_block3_out[0][0]           \n",
      "__________________________________________________________________________________________________\n",
      "conv3_block1_1_bn (BatchNormali (None, 25, 25, 128)  512         conv3_block1_1_conv[0][0]        \n",
      "__________________________________________________________________________________________________\n",
      "conv3_block1_1_relu (Activation (None, 25, 25, 128)  0           conv3_block1_1_bn[0][0]          \n",
      "__________________________________________________________________________________________________\n",
      "conv3_block1_2_conv (Conv2D)    (None, 25, 25, 128)  147584      conv3_block1_1_relu[0][0]        \n",
      "__________________________________________________________________________________________________\n",
      "conv3_block1_2_bn (BatchNormali (None, 25, 25, 128)  512         conv3_block1_2_conv[0][0]        \n",
      "__________________________________________________________________________________________________\n",
      "conv3_block1_2_relu (Activation (None, 25, 25, 128)  0           conv3_block1_2_bn[0][0]          \n",
      "__________________________________________________________________________________________________\n",
      "conv3_block1_0_conv (Conv2D)    (None, 25, 25, 512)  131584      conv2_block3_out[0][0]           \n",
      "__________________________________________________________________________________________________\n",
      "conv3_block1_3_conv (Conv2D)    (None, 25, 25, 512)  66048       conv3_block1_2_relu[0][0]        \n",
      "__________________________________________________________________________________________________\n",
      "conv3_block1_0_bn (BatchNormali (None, 25, 25, 512)  2048        conv3_block1_0_conv[0][0]        \n",
      "__________________________________________________________________________________________________\n",
      "conv3_block1_3_bn (BatchNormali (None, 25, 25, 512)  2048        conv3_block1_3_conv[0][0]        \n",
      "__________________________________________________________________________________________________\n",
      "conv3_block1_add (Add)          (None, 25, 25, 512)  0           conv3_block1_0_bn[0][0]          \n",
      "                                                                 conv3_block1_3_bn[0][0]          \n",
      "__________________________________________________________________________________________________\n",
      "conv3_block1_out (Activation)   (None, 25, 25, 512)  0           conv3_block1_add[0][0]           \n",
      "__________________________________________________________________________________________________\n",
      "conv3_block2_1_conv (Conv2D)    (None, 25, 25, 128)  65664       conv3_block1_out[0][0]           \n",
      "__________________________________________________________________________________________________\n",
      "conv3_block2_1_bn (BatchNormali (None, 25, 25, 128)  512         conv3_block2_1_conv[0][0]        \n",
      "__________________________________________________________________________________________________\n",
      "conv3_block2_1_relu (Activation (None, 25, 25, 128)  0           conv3_block2_1_bn[0][0]          \n",
      "__________________________________________________________________________________________________\n",
      "conv3_block2_2_conv (Conv2D)    (None, 25, 25, 128)  147584      conv3_block2_1_relu[0][0]        \n",
      "__________________________________________________________________________________________________\n",
      "conv3_block2_2_bn (BatchNormali (None, 25, 25, 128)  512         conv3_block2_2_conv[0][0]        \n",
      "__________________________________________________________________________________________________\n",
      "conv3_block2_2_relu (Activation (None, 25, 25, 128)  0           conv3_block2_2_bn[0][0]          \n",
      "__________________________________________________________________________________________________\n",
      "conv3_block2_3_conv (Conv2D)    (None, 25, 25, 512)  66048       conv3_block2_2_relu[0][0]        \n",
      "__________________________________________________________________________________________________\n",
      "conv3_block2_3_bn (BatchNormali (None, 25, 25, 512)  2048        conv3_block2_3_conv[0][0]        \n",
      "__________________________________________________________________________________________________\n",
      "conv3_block2_add (Add)          (None, 25, 25, 512)  0           conv3_block1_out[0][0]           \n",
      "                                                                 conv3_block2_3_bn[0][0]          \n",
      "__________________________________________________________________________________________________\n",
      "conv3_block2_out (Activation)   (None, 25, 25, 512)  0           conv3_block2_add[0][0]           \n",
      "__________________________________________________________________________________________________\n",
      "conv3_block3_1_conv (Conv2D)    (None, 25, 25, 128)  65664       conv3_block2_out[0][0]           \n",
      "__________________________________________________________________________________________________\n",
      "conv3_block3_1_bn (BatchNormali (None, 25, 25, 128)  512         conv3_block3_1_conv[0][0]        \n",
      "__________________________________________________________________________________________________\n",
      "conv3_block3_1_relu (Activation (None, 25, 25, 128)  0           conv3_block3_1_bn[0][0]          \n",
      "__________________________________________________________________________________________________\n",
      "conv3_block3_2_conv (Conv2D)    (None, 25, 25, 128)  147584      conv3_block3_1_relu[0][0]        \n",
      "__________________________________________________________________________________________________\n",
      "conv3_block3_2_bn (BatchNormali (None, 25, 25, 128)  512         conv3_block3_2_conv[0][0]        \n",
      "__________________________________________________________________________________________________\n",
      "conv3_block3_2_relu (Activation (None, 25, 25, 128)  0           conv3_block3_2_bn[0][0]          \n",
      "__________________________________________________________________________________________________\n",
      "conv3_block3_3_conv (Conv2D)    (None, 25, 25, 512)  66048       conv3_block3_2_relu[0][0]        \n",
      "__________________________________________________________________________________________________\n",
      "conv3_block3_3_bn (BatchNormali (None, 25, 25, 512)  2048        conv3_block3_3_conv[0][0]        \n",
      "__________________________________________________________________________________________________\n",
      "conv3_block3_add (Add)          (None, 25, 25, 512)  0           conv3_block2_out[0][0]           \n",
      "                                                                 conv3_block3_3_bn[0][0]          \n",
      "__________________________________________________________________________________________________\n",
      "conv3_block3_out (Activation)   (None, 25, 25, 512)  0           conv3_block3_add[0][0]           \n",
      "__________________________________________________________________________________________________\n",
      "conv3_block4_1_conv (Conv2D)    (None, 25, 25, 128)  65664       conv3_block3_out[0][0]           \n",
      "__________________________________________________________________________________________________\n",
      "conv3_block4_1_bn (BatchNormali (None, 25, 25, 128)  512         conv3_block4_1_conv[0][0]        \n",
      "__________________________________________________________________________________________________\n",
      "conv3_block4_1_relu (Activation (None, 25, 25, 128)  0           conv3_block4_1_bn[0][0]          \n",
      "__________________________________________________________________________________________________\n",
      "conv3_block4_2_conv (Conv2D)    (None, 25, 25, 128)  147584      conv3_block4_1_relu[0][0]        \n",
      "__________________________________________________________________________________________________\n",
      "conv3_block4_2_bn (BatchNormali (None, 25, 25, 128)  512         conv3_block4_2_conv[0][0]        \n",
      "__________________________________________________________________________________________________\n",
      "conv3_block4_2_relu (Activation (None, 25, 25, 128)  0           conv3_block4_2_bn[0][0]          \n",
      "__________________________________________________________________________________________________\n",
      "conv3_block4_3_conv (Conv2D)    (None, 25, 25, 512)  66048       conv3_block4_2_relu[0][0]        \n",
      "__________________________________________________________________________________________________\n",
      "conv3_block4_3_bn (BatchNormali (None, 25, 25, 512)  2048        conv3_block4_3_conv[0][0]        \n",
      "__________________________________________________________________________________________________\n",
      "conv3_block4_add (Add)          (None, 25, 25, 512)  0           conv3_block3_out[0][0]           \n",
      "                                                                 conv3_block4_3_bn[0][0]          \n",
      "__________________________________________________________________________________________________\n",
      "conv3_block4_out (Activation)   (None, 25, 25, 512)  0           conv3_block4_add[0][0]           \n",
      "__________________________________________________________________________________________________\n",
      "conv4_block1_1_conv (Conv2D)    (None, 13, 13, 256)  131328      conv3_block4_out[0][0]           \n",
      "__________________________________________________________________________________________________\n",
      "conv4_block1_1_bn (BatchNormali (None, 13, 13, 256)  1024        conv4_block1_1_conv[0][0]        \n",
      "__________________________________________________________________________________________________\n",
      "conv4_block1_1_relu (Activation (None, 13, 13, 256)  0           conv4_block1_1_bn[0][0]          \n",
      "__________________________________________________________________________________________________\n",
      "conv4_block1_2_conv (Conv2D)    (None, 13, 13, 256)  590080      conv4_block1_1_relu[0][0]        \n",
      "__________________________________________________________________________________________________\n",
      "conv4_block1_2_bn (BatchNormali (None, 13, 13, 256)  1024        conv4_block1_2_conv[0][0]        \n",
      "__________________________________________________________________________________________________\n",
      "conv4_block1_2_relu (Activation (None, 13, 13, 256)  0           conv4_block1_2_bn[0][0]          \n",
      "__________________________________________________________________________________________________\n",
      "conv4_block1_0_conv (Conv2D)    (None, 13, 13, 1024) 525312      conv3_block4_out[0][0]           \n",
      "__________________________________________________________________________________________________\n",
      "conv4_block1_3_conv (Conv2D)    (None, 13, 13, 1024) 263168      conv4_block1_2_relu[0][0]        \n",
      "__________________________________________________________________________________________________\n",
      "conv4_block1_0_bn (BatchNormali (None, 13, 13, 1024) 4096        conv4_block1_0_conv[0][0]        \n",
      "__________________________________________________________________________________________________\n",
      "conv4_block1_3_bn (BatchNormali (None, 13, 13, 1024) 4096        conv4_block1_3_conv[0][0]        \n",
      "__________________________________________________________________________________________________\n",
      "conv4_block1_add (Add)          (None, 13, 13, 1024) 0           conv4_block1_0_bn[0][0]          \n",
      "                                                                 conv4_block1_3_bn[0][0]          \n",
      "__________________________________________________________________________________________________\n",
      "conv4_block1_out (Activation)   (None, 13, 13, 1024) 0           conv4_block1_add[0][0]           \n",
      "__________________________________________________________________________________________________\n",
      "conv4_block2_1_conv (Conv2D)    (None, 13, 13, 256)  262400      conv4_block1_out[0][0]           \n",
      "__________________________________________________________________________________________________\n",
      "conv4_block2_1_bn (BatchNormali (None, 13, 13, 256)  1024        conv4_block2_1_conv[0][0]        \n",
      "__________________________________________________________________________________________________\n",
      "conv4_block2_1_relu (Activation (None, 13, 13, 256)  0           conv4_block2_1_bn[0][0]          \n",
      "__________________________________________________________________________________________________\n",
      "conv4_block2_2_conv (Conv2D)    (None, 13, 13, 256)  590080      conv4_block2_1_relu[0][0]        \n",
      "__________________________________________________________________________________________________\n",
      "conv4_block2_2_bn (BatchNormali (None, 13, 13, 256)  1024        conv4_block2_2_conv[0][0]        \n",
      "__________________________________________________________________________________________________\n",
      "conv4_block2_2_relu (Activation (None, 13, 13, 256)  0           conv4_block2_2_bn[0][0]          \n",
      "__________________________________________________________________________________________________\n",
      "conv4_block2_3_conv (Conv2D)    (None, 13, 13, 1024) 263168      conv4_block2_2_relu[0][0]        \n",
      "__________________________________________________________________________________________________\n",
      "conv4_block2_3_bn (BatchNormali (None, 13, 13, 1024) 4096        conv4_block2_3_conv[0][0]        \n",
      "__________________________________________________________________________________________________\n",
      "conv4_block2_add (Add)          (None, 13, 13, 1024) 0           conv4_block1_out[0][0]           \n",
      "                                                                 conv4_block2_3_bn[0][0]          \n",
      "__________________________________________________________________________________________________\n",
      "conv4_block2_out (Activation)   (None, 13, 13, 1024) 0           conv4_block2_add[0][0]           \n",
      "__________________________________________________________________________________________________\n",
      "conv4_block3_1_conv (Conv2D)    (None, 13, 13, 256)  262400      conv4_block2_out[0][0]           \n",
      "__________________________________________________________________________________________________\n",
      "conv4_block3_1_bn (BatchNormali (None, 13, 13, 256)  1024        conv4_block3_1_conv[0][0]        \n",
      "__________________________________________________________________________________________________\n",
      "conv4_block3_1_relu (Activation (None, 13, 13, 256)  0           conv4_block3_1_bn[0][0]          \n",
      "__________________________________________________________________________________________________\n",
      "conv4_block3_2_conv (Conv2D)    (None, 13, 13, 256)  590080      conv4_block3_1_relu[0][0]        \n",
      "__________________________________________________________________________________________________\n",
      "conv4_block3_2_bn (BatchNormali (None, 13, 13, 256)  1024        conv4_block3_2_conv[0][0]        \n",
      "__________________________________________________________________________________________________\n",
      "conv4_block3_2_relu (Activation (None, 13, 13, 256)  0           conv4_block3_2_bn[0][0]          \n",
      "__________________________________________________________________________________________________\n",
      "conv4_block3_3_conv (Conv2D)    (None, 13, 13, 1024) 263168      conv4_block3_2_relu[0][0]        \n",
      "__________________________________________________________________________________________________\n",
      "conv4_block3_3_bn (BatchNormali (None, 13, 13, 1024) 4096        conv4_block3_3_conv[0][0]        \n",
      "__________________________________________________________________________________________________\n",
      "conv4_block3_add (Add)          (None, 13, 13, 1024) 0           conv4_block2_out[0][0]           \n",
      "                                                                 conv4_block3_3_bn[0][0]          \n",
      "__________________________________________________________________________________________________\n",
      "conv4_block3_out (Activation)   (None, 13, 13, 1024) 0           conv4_block3_add[0][0]           \n",
      "__________________________________________________________________________________________________\n",
      "conv4_block4_1_conv (Conv2D)    (None, 13, 13, 256)  262400      conv4_block3_out[0][0]           \n",
      "__________________________________________________________________________________________________\n",
      "conv4_block4_1_bn (BatchNormali (None, 13, 13, 256)  1024        conv4_block4_1_conv[0][0]        \n",
      "__________________________________________________________________________________________________\n",
      "conv4_block4_1_relu (Activation (None, 13, 13, 256)  0           conv4_block4_1_bn[0][0]          \n",
      "__________________________________________________________________________________________________\n",
      "conv4_block4_2_conv (Conv2D)    (None, 13, 13, 256)  590080      conv4_block4_1_relu[0][0]        \n",
      "__________________________________________________________________________________________________\n",
      "conv4_block4_2_bn (BatchNormali (None, 13, 13, 256)  1024        conv4_block4_2_conv[0][0]        \n",
      "__________________________________________________________________________________________________\n",
      "conv4_block4_2_relu (Activation (None, 13, 13, 256)  0           conv4_block4_2_bn[0][0]          \n",
      "__________________________________________________________________________________________________\n",
      "conv4_block4_3_conv (Conv2D)    (None, 13, 13, 1024) 263168      conv4_block4_2_relu[0][0]        \n",
      "__________________________________________________________________________________________________\n",
      "conv4_block4_3_bn (BatchNormali (None, 13, 13, 1024) 4096        conv4_block4_3_conv[0][0]        \n",
      "__________________________________________________________________________________________________\n",
      "conv4_block4_add (Add)          (None, 13, 13, 1024) 0           conv4_block3_out[0][0]           \n",
      "                                                                 conv4_block4_3_bn[0][0]          \n",
      "__________________________________________________________________________________________________\n",
      "conv4_block4_out (Activation)   (None, 13, 13, 1024) 0           conv4_block4_add[0][0]           \n",
      "__________________________________________________________________________________________________\n",
      "conv4_block5_1_conv (Conv2D)    (None, 13, 13, 256)  262400      conv4_block4_out[0][0]           \n",
      "__________________________________________________________________________________________________\n",
      "conv4_block5_1_bn (BatchNormali (None, 13, 13, 256)  1024        conv4_block5_1_conv[0][0]        \n",
      "__________________________________________________________________________________________________\n",
      "conv4_block5_1_relu (Activation (None, 13, 13, 256)  0           conv4_block5_1_bn[0][0]          \n",
      "__________________________________________________________________________________________________\n",
      "conv4_block5_2_conv (Conv2D)    (None, 13, 13, 256)  590080      conv4_block5_1_relu[0][0]        \n",
      "__________________________________________________________________________________________________\n",
      "conv4_block5_2_bn (BatchNormali (None, 13, 13, 256)  1024        conv4_block5_2_conv[0][0]        \n",
      "__________________________________________________________________________________________________\n",
      "conv4_block5_2_relu (Activation (None, 13, 13, 256)  0           conv4_block5_2_bn[0][0]          \n",
      "__________________________________________________________________________________________________\n",
      "conv4_block5_3_conv (Conv2D)    (None, 13, 13, 1024) 263168      conv4_block5_2_relu[0][0]        \n",
      "__________________________________________________________________________________________________\n",
      "conv4_block5_3_bn (BatchNormali (None, 13, 13, 1024) 4096        conv4_block5_3_conv[0][0]        \n",
      "__________________________________________________________________________________________________\n",
      "conv4_block5_add (Add)          (None, 13, 13, 1024) 0           conv4_block4_out[0][0]           \n",
      "                                                                 conv4_block5_3_bn[0][0]          \n",
      "__________________________________________________________________________________________________\n",
      "conv4_block5_out (Activation)   (None, 13, 13, 1024) 0           conv4_block5_add[0][0]           \n",
      "__________________________________________________________________________________________________\n",
      "conv4_block6_1_conv (Conv2D)    (None, 13, 13, 256)  262400      conv4_block5_out[0][0]           \n",
      "__________________________________________________________________________________________________\n",
      "conv4_block6_1_bn (BatchNormali (None, 13, 13, 256)  1024        conv4_block6_1_conv[0][0]        \n",
      "__________________________________________________________________________________________________\n",
      "conv4_block6_1_relu (Activation (None, 13, 13, 256)  0           conv4_block6_1_bn[0][0]          \n",
      "__________________________________________________________________________________________________\n",
      "conv4_block6_2_conv (Conv2D)    (None, 13, 13, 256)  590080      conv4_block6_1_relu[0][0]        \n",
      "__________________________________________________________________________________________________\n",
      "conv4_block6_2_bn (BatchNormali (None, 13, 13, 256)  1024        conv4_block6_2_conv[0][0]        \n",
      "__________________________________________________________________________________________________\n",
      "conv4_block6_2_relu (Activation (None, 13, 13, 256)  0           conv4_block6_2_bn[0][0]          \n",
      "__________________________________________________________________________________________________\n",
      "conv4_block6_3_conv (Conv2D)    (None, 13, 13, 1024) 263168      conv4_block6_2_relu[0][0]        \n",
      "__________________________________________________________________________________________________\n",
      "conv4_block6_3_bn (BatchNormali (None, 13, 13, 1024) 4096        conv4_block6_3_conv[0][0]        \n",
      "__________________________________________________________________________________________________\n",
      "conv4_block6_add (Add)          (None, 13, 13, 1024) 0           conv4_block5_out[0][0]           \n",
      "                                                                 conv4_block6_3_bn[0][0]          \n",
      "__________________________________________________________________________________________________\n",
      "conv4_block6_out (Activation)   (None, 13, 13, 1024) 0           conv4_block6_add[0][0]           \n",
      "__________________________________________________________________________________________________\n",
      "conv5_block1_1_conv (Conv2D)    (None, 7, 7, 512)    524800      conv4_block6_out[0][0]           \n",
      "__________________________________________________________________________________________________\n",
      "conv5_block1_1_bn (BatchNormali (None, 7, 7, 512)    2048        conv5_block1_1_conv[0][0]        \n",
      "__________________________________________________________________________________________________\n",
      "conv5_block1_1_relu (Activation (None, 7, 7, 512)    0           conv5_block1_1_bn[0][0]          \n",
      "__________________________________________________________________________________________________\n",
      "conv5_block1_2_conv (Conv2D)    (None, 7, 7, 512)    2359808     conv5_block1_1_relu[0][0]        \n",
      "__________________________________________________________________________________________________\n",
      "conv5_block1_2_bn (BatchNormali (None, 7, 7, 512)    2048        conv5_block1_2_conv[0][0]        \n",
      "__________________________________________________________________________________________________\n",
      "conv5_block1_2_relu (Activation (None, 7, 7, 512)    0           conv5_block1_2_bn[0][0]          \n",
      "__________________________________________________________________________________________________\n",
      "conv5_block1_0_conv (Conv2D)    (None, 7, 7, 2048)   2099200     conv4_block6_out[0][0]           \n",
      "__________________________________________________________________________________________________\n",
      "conv5_block1_3_conv (Conv2D)    (None, 7, 7, 2048)   1050624     conv5_block1_2_relu[0][0]        \n",
      "__________________________________________________________________________________________________\n",
      "conv5_block1_0_bn (BatchNormali (None, 7, 7, 2048)   8192        conv5_block1_0_conv[0][0]        \n",
      "__________________________________________________________________________________________________\n",
      "conv5_block1_3_bn (BatchNormali (None, 7, 7, 2048)   8192        conv5_block1_3_conv[0][0]        \n",
      "__________________________________________________________________________________________________\n",
      "conv5_block1_add (Add)          (None, 7, 7, 2048)   0           conv5_block1_0_bn[0][0]          \n",
      "                                                                 conv5_block1_3_bn[0][0]          \n",
      "__________________________________________________________________________________________________\n",
      "conv5_block1_out (Activation)   (None, 7, 7, 2048)   0           conv5_block1_add[0][0]           \n",
      "__________________________________________________________________________________________________\n",
      "conv5_block2_1_conv (Conv2D)    (None, 7, 7, 512)    1049088     conv5_block1_out[0][0]           \n",
      "__________________________________________________________________________________________________\n",
      "conv5_block2_1_bn (BatchNormali (None, 7, 7, 512)    2048        conv5_block2_1_conv[0][0]        \n",
      "__________________________________________________________________________________________________\n",
      "conv5_block2_1_relu (Activation (None, 7, 7, 512)    0           conv5_block2_1_bn[0][0]          \n",
      "__________________________________________________________________________________________________\n",
      "conv5_block2_2_conv (Conv2D)    (None, 7, 7, 512)    2359808     conv5_block2_1_relu[0][0]        \n",
      "__________________________________________________________________________________________________\n",
      "conv5_block2_2_bn (BatchNormali (None, 7, 7, 512)    2048        conv5_block2_2_conv[0][0]        \n",
      "__________________________________________________________________________________________________\n",
      "conv5_block2_2_relu (Activation (None, 7, 7, 512)    0           conv5_block2_2_bn[0][0]          \n",
      "__________________________________________________________________________________________________\n",
      "conv5_block2_3_conv (Conv2D)    (None, 7, 7, 2048)   1050624     conv5_block2_2_relu[0][0]        \n",
      "__________________________________________________________________________________________________\n",
      "conv5_block2_3_bn (BatchNormali (None, 7, 7, 2048)   8192        conv5_block2_3_conv[0][0]        \n",
      "__________________________________________________________________________________________________\n",
      "conv5_block2_add (Add)          (None, 7, 7, 2048)   0           conv5_block1_out[0][0]           \n",
      "                                                                 conv5_block2_3_bn[0][0]          \n",
      "__________________________________________________________________________________________________\n",
      "conv5_block2_out (Activation)   (None, 7, 7, 2048)   0           conv5_block2_add[0][0]           \n",
      "__________________________________________________________________________________________________\n",
      "conv5_block3_1_conv (Conv2D)    (None, 7, 7, 512)    1049088     conv5_block2_out[0][0]           \n",
      "__________________________________________________________________________________________________\n",
      "conv5_block3_1_bn (BatchNormali (None, 7, 7, 512)    2048        conv5_block3_1_conv[0][0]        \n",
      "__________________________________________________________________________________________________\n",
      "conv5_block3_1_relu (Activation (None, 7, 7, 512)    0           conv5_block3_1_bn[0][0]          \n",
      "__________________________________________________________________________________________________\n",
      "conv5_block3_2_conv (Conv2D)    (None, 7, 7, 512)    2359808     conv5_block3_1_relu[0][0]        \n",
      "__________________________________________________________________________________________________\n",
      "conv5_block3_2_bn (BatchNormali (None, 7, 7, 512)    2048        conv5_block3_2_conv[0][0]        \n",
      "__________________________________________________________________________________________________\n",
      "conv5_block3_2_relu (Activation (None, 7, 7, 512)    0           conv5_block3_2_bn[0][0]          \n",
      "__________________________________________________________________________________________________\n",
      "conv5_block3_3_conv (Conv2D)    (None, 7, 7, 2048)   1050624     conv5_block3_2_relu[0][0]        \n",
      "__________________________________________________________________________________________________\n",
      "conv5_block3_3_bn (BatchNormali (None, 7, 7, 2048)   8192        conv5_block3_3_conv[0][0]        \n",
      "__________________________________________________________________________________________________\n",
      "conv5_block3_add (Add)          (None, 7, 7, 2048)   0           conv5_block2_out[0][0]           \n",
      "                                                                 conv5_block3_3_bn[0][0]          \n",
      "__________________________________________________________________________________________________\n",
      "conv5_block3_out (Activation)   (None, 7, 7, 2048)   0           conv5_block3_add[0][0]           \n",
      "__________________________________________________________________________________________________\n",
      "flatten_1 (Flatten)             (None, 100352)       0           conv5_block3_out[0][0]           \n",
      "__________________________________________________________________________________________________\n",
      "dense_2 (Dense)                 (None, 128)          12845184    flatten_1[0][0]                  \n",
      "__________________________________________________________________________________________________\n",
      "dense_3 (Dense)                 (None, 1)            129         dense_2[0][0]                    \n",
      "==================================================================================================\n",
      "Total params: 36,433,025\n",
      "Trainable params: 12,845,313\n",
      "Non-trainable params: 23,587,712\n",
      "__________________________________________________________________________________________________\n"
     ]
    }
   ],
   "source": [
    "model.summary()"
   ]
  },
  {
   "cell_type": "code",
   "execution_count": null,
   "id": "ba0d9b7c-58a5-46a7-946c-c76ccc130d17",
   "metadata": {
    "gradient": {
     "editing": false,
     "id": "ba0d9b7c-58a5-46a7-946c-c76ccc130d17",
     "kernelId": "c43ef7d2-d55f-48fa-95d3-01a67248e3ea",
     "source_hidden": false
    }
   },
   "outputs": [],
   "source": [
    "model.compile(optimizer=opt, loss='binary_crossentropy', metrics=['accuracy'])"
   ]
  },
  {
   "cell_type": "code",
   "execution_count": null,
   "id": "47414cb5-d7e4-40cb-8876-68391583cc3a",
   "metadata": {
    "gradient": {
     "editing": false,
     "id": "47414cb5-d7e4-40cb-8876-68391583cc3a",
     "kernelId": "c43ef7d2-d55f-48fa-95d3-01a67248e3ea",
     "source_hidden": false
    }
   },
   "outputs": [
    {
     "name": "stderr",
     "output_type": "stream",
     "text": [
      "/usr/local/lib/python3.8/dist-packages/keras/engine/training.py:1972: UserWarning: `Model.fit_generator` is deprecated and will be removed in a future version. Please use `Model.fit`, which supports generators.\n",
      "  warnings.warn('`Model.fit_generator` is deprecated and '\n",
      "2022-01-26 10:28:59.211879: I tensorflow/compiler/mlir/mlir_graph_optimization_pass.cc:185] None of the MLIR Optimization Passes are enabled (registered 2)\n"
     ]
    },
    {
     "name": "stdout",
     "output_type": "stream",
     "text": [
      "Epoch 1/10\n"
     ]
    },
    {
     "name": "stderr",
     "output_type": "stream",
     "text": [
      "2022-01-26 10:29:03.712638: I tensorflow/stream_executor/cuda/cuda_dnn.cc:381] Loaded cuDNN version 8204\n"
     ]
    },
    {
     "name": "stdout",
     "output_type": "stream",
     "text": [
      "312/312 [==============================] - 288s 904ms/step - loss: 0.6677 - accuracy: 0.5916 - val_loss: 0.6466 - val_accuracy: 0.6184\n",
      "Epoch 2/10\n",
      "312/312 [==============================] - 231s 740ms/step - loss: 0.6472 - accuracy: 0.6244 - val_loss: 0.6159 - val_accuracy: 0.6667\n",
      "Epoch 3/10\n",
      "312/312 [==============================] - 226s 723ms/step - loss: 0.6371 - accuracy: 0.6343 - val_loss: 0.6041 - val_accuracy: 0.6759\n",
      "Epoch 4/10\n",
      "312/312 [==============================] - 230s 737ms/step - loss: 0.6273 - accuracy: 0.6479 - val_loss: 0.6069 - val_accuracy: 0.6699\n",
      "Epoch 5/10\n",
      "312/312 [==============================] - 245s 783ms/step - loss: 0.6214 - accuracy: 0.6571 - val_loss: 0.5935 - val_accuracy: 0.6877\n",
      "Epoch 6/10\n",
      "312/312 [==============================] - 228s 731ms/step - loss: 0.6183 - accuracy: 0.6578 - val_loss: 0.5890 - val_accuracy: 0.6897\n",
      "Epoch 7/10\n",
      " 71/312 [=====>........................] - ETA: 2:37 - loss: 0.6081 - accuracy: 0.6681"
     ]
    }
   ],
   "source": [
    "history=model.fit_generator(\n",
    "        train_generator,\n",
    "        steps_per_epoch=train_generator.samples // 64,\n",
    "        epochs=10,\n",
    "        validation_data=val_generator,\n",
    "        validation_steps=val_generator.samples // 64)"
   ]
  },
  {
   "cell_type": "markdown",
   "id": "ec4e5f62",
   "metadata": {
    "gradient": {
     "editing": false,
     "id": "ea9a29e2-072c-4dcc-abdf-67613bfd2764",
     "kernelId": "c43ef7d2-d55f-48fa-95d3-01a67248e3ea",
     "source_hidden": false
    }
   },
   "source": [
    "# Since VGG 16 gave us the best result, let's predict with that model"
   ]
  },
  {
   "cell_type": "code",
   "execution_count": 20,
   "id": "4d129f96",
   "metadata": {},
   "outputs": [],
   "source": [
    "model = VGG16(include_top=False, input_shape=(200, 200, 3))\n",
    "# mark loaded layers as not trainable\n",
    "model.trainable = False\n",
    "# add new classifier layers\n",
    "flat1 = Flatten()(model.layers[-1].output)\n",
    "class1 = Dense(128, activation='relu', kernel_initializer='he_uniform')(flat1)\n",
    "output = Dense(1, activation='sigmoid')(class1)\n",
    "# define new model\n",
    "model = Model(inputs=model.inputs, outputs=output)\n",
    "# compile model\n",
    "opt = keras.optimizers.Adam(learning_rate=0.00001)\n",
    "\n",
    "model.compile(optimizer=opt, loss='binary_crossentropy', metrics=['accuracy'])"
   ]
  },
  {
   "cell_type": "markdown",
   "id": "11e350e3",
   "metadata": {},
   "source": [
    "# Loading Model Weights"
   ]
  },
  {
   "cell_type": "code",
   "execution_count": 21,
   "id": "840bf388",
   "metadata": {},
   "outputs": [],
   "source": [
    "model.load_weights(\"fourth_try_with_vgg16.h5\")"
   ]
  },
  {
   "cell_type": "markdown",
   "id": "3a547bf7",
   "metadata": {},
   "source": [
    "# Defining the function to predict inlcuding pre processing"
   ]
  },
  {
   "cell_type": "code",
   "execution_count": 24,
   "id": "6b6d298a",
   "metadata": {},
   "outputs": [],
   "source": [
    "from keras.preprocessing import image\n",
    "import numpy as np"
   ]
  },
  {
   "cell_type": "code",
   "execution_count": 26,
   "id": "9c9fe601",
   "metadata": {},
   "outputs": [],
   "source": [
    "def predict_model(image_path,model):\n",
    "    img=image.load_img(image_path,target_size=(200,200))\n",
    "    img_arr=image.img_to_array(img)/255\n",
    "    img_arr=np.expand_dims(img_arr,axis=0)\n",
    "    pred=model.predict(img_arr)\n",
    "    #pred = tensorflow.keras.np_utils.probas_to_classes(y_proba)\n",
    "    pred=\"Probability of being a dog is \" + str(pred[0][0])\n",
    "    return pred"
   ]
  },
  {
   "cell_type": "code",
   "execution_count": 29,
   "id": "615abc91",
   "metadata": {},
   "outputs": [],
   "source": [
    "img=image.load_img(\"dog_test.jpg\",target_size=(200,200))"
   ]
  },
  {
   "cell_type": "code",
   "execution_count": 30,
   "id": "b89fb23d",
   "metadata": {},
   "outputs": [
    {
     "data": {
      "image/png": "[encoded data removed]",
      "text/plain": [
       "<PIL.Image.Image image mode=RGB size=200x200 at 0x1F972D472B0>"
      ]
     },
     "execution_count": 30,
     "metadata": {},
     "output_type": "execute_result"
    }
   ],
   "source": [
    "img"
   ]
  },
  {
   "cell_type": "code",
   "execution_count": 32,
   "id": "a4221d2f",
   "metadata": {},
   "outputs": [
    {
     "data": {
      "text/plain": [
       "'Probability of being a dog is 0.9999768'"
      ]
     },
     "execution_count": 32,
     "metadata": {},
     "output_type": "execute_result"
    }
   ],
   "source": [
    "predict_model(\"dog_test.jpg\",model)"
   ]
  }
 ],
 "metadata": {
  "kernelspec": {
   "display_name": "Python 3",
   "language": "python",
   "name": "python3"
  },
  "language_info": {
   "codemirror_mode": {
    "name": "ipython",
    "version": 3
   },
   "file_extension": ".py",
   "mimetype": "text/x-python",
   "name": "python",
   "nbconvert_exporter": "python",
   "pygments_lexer": "ipython3",
   "version": "3.8.8"
  }
 },
 "nbformat": 4,
 "nbformat_minor": 5
}
